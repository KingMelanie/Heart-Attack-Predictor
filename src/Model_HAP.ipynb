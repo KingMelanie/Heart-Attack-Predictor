{
  "cells": [
    {
      "cell_type": "code",
      "execution_count": null,
      "metadata": {
        "id": "gKjGi0hUHuSs"
      },
      "outputs": [],
      "source": [
        "import pandas as pd"
      ]
    },
    {
      "cell_type": "markdown",
      "metadata": {
        "id": "9Hd4jOn72GIO"
      },
      "source": [
        "#Loading dataset"
      ]
    },
    {
      "cell_type": "code",
      "source": [
        "df = pd.read_csv(\"/content/drive/MyDrive/new_df.csv\")"
      ],
      "metadata": {
        "id": "tPrV0Y9iib97"
      },
      "execution_count": null,
      "outputs": []
    },
    {
      "cell_type": "code",
      "source": [
        "df.head()"
      ],
      "metadata": {
        "colab": {
          "base_uri": "https://localhost:8080/",
          "height": 206
        },
        "id": "cLQAsu5kkebx",
        "outputId": "6e22ae69-1922-4621-d374-afcb46444a82"
      },
      "execution_count": null,
      "outputs": [
        {
          "output_type": "execute_result",
          "data": {
            "text/plain": [
              "   id  age     sex    dataset               cp  trestbps  chol    fbs  \\\n",
              "0   1   63    Male  Cleveland   typical angina     145.0   233   True   \n",
              "1   2   67    Male  Cleveland     asymptomatic     160.0   286  False   \n",
              "2   3   67    Male  Cleveland     asymptomatic     120.0   229  False   \n",
              "3   4   37    Male  Cleveland      non-anginal     130.0   250  False   \n",
              "4   5   41  Female  Cleveland  atypical angina     130.0   204  False   \n",
              "\n",
              "          restecg  thalch  exang  oldpeak        slope   ca  \\\n",
              "0  lv hypertrophy   150.0  False      2.3  downsloping  0.0   \n",
              "1  lv hypertrophy   108.0   True      1.5         flat  3.0   \n",
              "2  lv hypertrophy   129.0   True      2.6         flat  2.0   \n",
              "3          normal   187.0  False      3.5  downsloping  0.0   \n",
              "4  lv hypertrophy   172.0  False      1.4    upsloping  0.0   \n",
              "\n",
              "                thal  num  \n",
              "0       fixed defect    0  \n",
              "1             normal    2  \n",
              "2  reversable defect    1  \n",
              "3             normal    0  \n",
              "4             normal    0  "
            ],
            "text/html": [
              "\n",
              "  <div id=\"df-84545147-b0b2-4570-b255-c9e9c53c7d21\" class=\"colab-df-container\">\n",
              "    <div>\n",
              "<style scoped>\n",
              "    .dataframe tbody tr th:only-of-type {\n",
              "        vertical-align: middle;\n",
              "    }\n",
              "\n",
              "    .dataframe tbody tr th {\n",
              "        vertical-align: top;\n",
              "    }\n",
              "\n",
              "    .dataframe thead th {\n",
              "        text-align: right;\n",
              "    }\n",
              "</style>\n",
              "<table border=\"1\" class=\"dataframe\">\n",
              "  <thead>\n",
              "    <tr style=\"text-align: right;\">\n",
              "      <th></th>\n",
              "      <th>id</th>\n",
              "      <th>age</th>\n",
              "      <th>sex</th>\n",
              "      <th>dataset</th>\n",
              "      <th>cp</th>\n",
              "      <th>trestbps</th>\n",
              "      <th>chol</th>\n",
              "      <th>fbs</th>\n",
              "      <th>restecg</th>\n",
              "      <th>thalch</th>\n",
              "      <th>exang</th>\n",
              "      <th>oldpeak</th>\n",
              "      <th>slope</th>\n",
              "      <th>ca</th>\n",
              "      <th>thal</th>\n",
              "      <th>num</th>\n",
              "    </tr>\n",
              "  </thead>\n",
              "  <tbody>\n",
              "    <tr>\n",
              "      <th>0</th>\n",
              "      <td>1</td>\n",
              "      <td>63</td>\n",
              "      <td>Male</td>\n",
              "      <td>Cleveland</td>\n",
              "      <td>typical angina</td>\n",
              "      <td>145.0</td>\n",
              "      <td>233</td>\n",
              "      <td>True</td>\n",
              "      <td>lv hypertrophy</td>\n",
              "      <td>150.0</td>\n",
              "      <td>False</td>\n",
              "      <td>2.3</td>\n",
              "      <td>downsloping</td>\n",
              "      <td>0.0</td>\n",
              "      <td>fixed defect</td>\n",
              "      <td>0</td>\n",
              "    </tr>\n",
              "    <tr>\n",
              "      <th>1</th>\n",
              "      <td>2</td>\n",
              "      <td>67</td>\n",
              "      <td>Male</td>\n",
              "      <td>Cleveland</td>\n",
              "      <td>asymptomatic</td>\n",
              "      <td>160.0</td>\n",
              "      <td>286</td>\n",
              "      <td>False</td>\n",
              "      <td>lv hypertrophy</td>\n",
              "      <td>108.0</td>\n",
              "      <td>True</td>\n",
              "      <td>1.5</td>\n",
              "      <td>flat</td>\n",
              "      <td>3.0</td>\n",
              "      <td>normal</td>\n",
              "      <td>2</td>\n",
              "    </tr>\n",
              "    <tr>\n",
              "      <th>2</th>\n",
              "      <td>3</td>\n",
              "      <td>67</td>\n",
              "      <td>Male</td>\n",
              "      <td>Cleveland</td>\n",
              "      <td>asymptomatic</td>\n",
              "      <td>120.0</td>\n",
              "      <td>229</td>\n",
              "      <td>False</td>\n",
              "      <td>lv hypertrophy</td>\n",
              "      <td>129.0</td>\n",
              "      <td>True</td>\n",
              "      <td>2.6</td>\n",
              "      <td>flat</td>\n",
              "      <td>2.0</td>\n",
              "      <td>reversable defect</td>\n",
              "      <td>1</td>\n",
              "    </tr>\n",
              "    <tr>\n",
              "      <th>3</th>\n",
              "      <td>4</td>\n",
              "      <td>37</td>\n",
              "      <td>Male</td>\n",
              "      <td>Cleveland</td>\n",
              "      <td>non-anginal</td>\n",
              "      <td>130.0</td>\n",
              "      <td>250</td>\n",
              "      <td>False</td>\n",
              "      <td>normal</td>\n",
              "      <td>187.0</td>\n",
              "      <td>False</td>\n",
              "      <td>3.5</td>\n",
              "      <td>downsloping</td>\n",
              "      <td>0.0</td>\n",
              "      <td>normal</td>\n",
              "      <td>0</td>\n",
              "    </tr>\n",
              "    <tr>\n",
              "      <th>4</th>\n",
              "      <td>5</td>\n",
              "      <td>41</td>\n",
              "      <td>Female</td>\n",
              "      <td>Cleveland</td>\n",
              "      <td>atypical angina</td>\n",
              "      <td>130.0</td>\n",
              "      <td>204</td>\n",
              "      <td>False</td>\n",
              "      <td>lv hypertrophy</td>\n",
              "      <td>172.0</td>\n",
              "      <td>False</td>\n",
              "      <td>1.4</td>\n",
              "      <td>upsloping</td>\n",
              "      <td>0.0</td>\n",
              "      <td>normal</td>\n",
              "      <td>0</td>\n",
              "    </tr>\n",
              "  </tbody>\n",
              "</table>\n",
              "</div>\n",
              "    <div class=\"colab-df-buttons\">\n",
              "\n",
              "  <div class=\"colab-df-container\">\n",
              "    <button class=\"colab-df-convert\" onclick=\"convertToInteractive('df-84545147-b0b2-4570-b255-c9e9c53c7d21')\"\n",
              "            title=\"Convert this dataframe to an interactive table.\"\n",
              "            style=\"display:none;\">\n",
              "\n",
              "  <svg xmlns=\"http://www.w3.org/2000/svg\" height=\"24px\" viewBox=\"0 -960 960 960\">\n",
              "    <path d=\"M120-120v-720h720v720H120Zm60-500h600v-160H180v160Zm220 220h160v-160H400v160Zm0 220h160v-160H400v160ZM180-400h160v-160H180v160Zm440 0h160v-160H620v160ZM180-180h160v-160H180v160Zm440 0h160v-160H620v160Z\"/>\n",
              "  </svg>\n",
              "    </button>\n",
              "\n",
              "  <style>\n",
              "    .colab-df-container {\n",
              "      display:flex;\n",
              "      gap: 12px;\n",
              "    }\n",
              "\n",
              "    .colab-df-convert {\n",
              "      background-color: #E8F0FE;\n",
              "      border: none;\n",
              "      border-radius: 50%;\n",
              "      cursor: pointer;\n",
              "      display: none;\n",
              "      fill: #1967D2;\n",
              "      height: 32px;\n",
              "      padding: 0 0 0 0;\n",
              "      width: 32px;\n",
              "    }\n",
              "\n",
              "    .colab-df-convert:hover {\n",
              "      background-color: #E2EBFA;\n",
              "      box-shadow: 0px 1px 2px rgba(60, 64, 67, 0.3), 0px 1px 3px 1px rgba(60, 64, 67, 0.15);\n",
              "      fill: #174EA6;\n",
              "    }\n",
              "\n",
              "    .colab-df-buttons div {\n",
              "      margin-bottom: 4px;\n",
              "    }\n",
              "\n",
              "    [theme=dark] .colab-df-convert {\n",
              "      background-color: #3B4455;\n",
              "      fill: #D2E3FC;\n",
              "    }\n",
              "\n",
              "    [theme=dark] .colab-df-convert:hover {\n",
              "      background-color: #434B5C;\n",
              "      box-shadow: 0px 1px 3px 1px rgba(0, 0, 0, 0.15);\n",
              "      filter: drop-shadow(0px 1px 2px rgba(0, 0, 0, 0.3));\n",
              "      fill: #FFFFFF;\n",
              "    }\n",
              "  </style>\n",
              "\n",
              "    <script>\n",
              "      const buttonEl =\n",
              "        document.querySelector('#df-84545147-b0b2-4570-b255-c9e9c53c7d21 button.colab-df-convert');\n",
              "      buttonEl.style.display =\n",
              "        google.colab.kernel.accessAllowed ? 'block' : 'none';\n",
              "\n",
              "      async function convertToInteractive(key) {\n",
              "        const element = document.querySelector('#df-84545147-b0b2-4570-b255-c9e9c53c7d21');\n",
              "        const dataTable =\n",
              "          await google.colab.kernel.invokeFunction('convertToInteractive',\n",
              "                                                    [key], {});\n",
              "        if (!dataTable) return;\n",
              "\n",
              "        const docLinkHtml = 'Like what you see? Visit the ' +\n",
              "          '<a target=\"_blank\" href=https://colab.research.google.com/notebooks/data_table.ipynb>data table notebook</a>'\n",
              "          + ' to learn more about interactive tables.';\n",
              "        element.innerHTML = '';\n",
              "        dataTable['output_type'] = 'display_data';\n",
              "        await google.colab.output.renderOutput(dataTable, element);\n",
              "        const docLink = document.createElement('div');\n",
              "        docLink.innerHTML = docLinkHtml;\n",
              "        element.appendChild(docLink);\n",
              "      }\n",
              "    </script>\n",
              "  </div>\n",
              "\n",
              "\n",
              "<div id=\"df-755a3592-c7eb-4f87-9cd0-c3da4521292b\">\n",
              "  <button class=\"colab-df-quickchart\" onclick=\"quickchart('df-755a3592-c7eb-4f87-9cd0-c3da4521292b')\"\n",
              "            title=\"Suggest charts\"\n",
              "            style=\"display:none;\">\n",
              "\n",
              "<svg xmlns=\"http://www.w3.org/2000/svg\" height=\"24px\"viewBox=\"0 0 24 24\"\n",
              "     width=\"24px\">\n",
              "    <g>\n",
              "        <path d=\"M19 3H5c-1.1 0-2 .9-2 2v14c0 1.1.9 2 2 2h14c1.1 0 2-.9 2-2V5c0-1.1-.9-2-2-2zM9 17H7v-7h2v7zm4 0h-2V7h2v10zm4 0h-2v-4h2v4z\"/>\n",
              "    </g>\n",
              "</svg>\n",
              "  </button>\n",
              "\n",
              "<style>\n",
              "  .colab-df-quickchart {\n",
              "      --bg-color: #E8F0FE;\n",
              "      --fill-color: #1967D2;\n",
              "      --hover-bg-color: #E2EBFA;\n",
              "      --hover-fill-color: #174EA6;\n",
              "      --disabled-fill-color: #AAA;\n",
              "      --disabled-bg-color: #DDD;\n",
              "  }\n",
              "\n",
              "  [theme=dark] .colab-df-quickchart {\n",
              "      --bg-color: #3B4455;\n",
              "      --fill-color: #D2E3FC;\n",
              "      --hover-bg-color: #434B5C;\n",
              "      --hover-fill-color: #FFFFFF;\n",
              "      --disabled-bg-color: #3B4455;\n",
              "      --disabled-fill-color: #666;\n",
              "  }\n",
              "\n",
              "  .colab-df-quickchart {\n",
              "    background-color: var(--bg-color);\n",
              "    border: none;\n",
              "    border-radius: 50%;\n",
              "    cursor: pointer;\n",
              "    display: none;\n",
              "    fill: var(--fill-color);\n",
              "    height: 32px;\n",
              "    padding: 0;\n",
              "    width: 32px;\n",
              "  }\n",
              "\n",
              "  .colab-df-quickchart:hover {\n",
              "    background-color: var(--hover-bg-color);\n",
              "    box-shadow: 0 1px 2px rgba(60, 64, 67, 0.3), 0 1px 3px 1px rgba(60, 64, 67, 0.15);\n",
              "    fill: var(--button-hover-fill-color);\n",
              "  }\n",
              "\n",
              "  .colab-df-quickchart-complete:disabled,\n",
              "  .colab-df-quickchart-complete:disabled:hover {\n",
              "    background-color: var(--disabled-bg-color);\n",
              "    fill: var(--disabled-fill-color);\n",
              "    box-shadow: none;\n",
              "  }\n",
              "\n",
              "  .colab-df-spinner {\n",
              "    border: 2px solid var(--fill-color);\n",
              "    border-color: transparent;\n",
              "    border-bottom-color: var(--fill-color);\n",
              "    animation:\n",
              "      spin 1s steps(1) infinite;\n",
              "  }\n",
              "\n",
              "  @keyframes spin {\n",
              "    0% {\n",
              "      border-color: transparent;\n",
              "      border-bottom-color: var(--fill-color);\n",
              "      border-left-color: var(--fill-color);\n",
              "    }\n",
              "    20% {\n",
              "      border-color: transparent;\n",
              "      border-left-color: var(--fill-color);\n",
              "      border-top-color: var(--fill-color);\n",
              "    }\n",
              "    30% {\n",
              "      border-color: transparent;\n",
              "      border-left-color: var(--fill-color);\n",
              "      border-top-color: var(--fill-color);\n",
              "      border-right-color: var(--fill-color);\n",
              "    }\n",
              "    40% {\n",
              "      border-color: transparent;\n",
              "      border-right-color: var(--fill-color);\n",
              "      border-top-color: var(--fill-color);\n",
              "    }\n",
              "    60% {\n",
              "      border-color: transparent;\n",
              "      border-right-color: var(--fill-color);\n",
              "    }\n",
              "    80% {\n",
              "      border-color: transparent;\n",
              "      border-right-color: var(--fill-color);\n",
              "      border-bottom-color: var(--fill-color);\n",
              "    }\n",
              "    90% {\n",
              "      border-color: transparent;\n",
              "      border-bottom-color: var(--fill-color);\n",
              "    }\n",
              "  }\n",
              "</style>\n",
              "\n",
              "  <script>\n",
              "    async function quickchart(key) {\n",
              "      const quickchartButtonEl =\n",
              "        document.querySelector('#' + key + ' button');\n",
              "      quickchartButtonEl.disabled = true;  // To prevent multiple clicks.\n",
              "      quickchartButtonEl.classList.add('colab-df-spinner');\n",
              "      try {\n",
              "        const charts = await google.colab.kernel.invokeFunction(\n",
              "            'suggestCharts', [key], {});\n",
              "      } catch (error) {\n",
              "        console.error('Error during call to suggestCharts:', error);\n",
              "      }\n",
              "      quickchartButtonEl.classList.remove('colab-df-spinner');\n",
              "      quickchartButtonEl.classList.add('colab-df-quickchart-complete');\n",
              "    }\n",
              "    (() => {\n",
              "      let quickchartButtonEl =\n",
              "        document.querySelector('#df-755a3592-c7eb-4f87-9cd0-c3da4521292b button');\n",
              "      quickchartButtonEl.style.display =\n",
              "        google.colab.kernel.accessAllowed ? 'block' : 'none';\n",
              "    })();\n",
              "  </script>\n",
              "</div>\n",
              "\n",
              "    </div>\n",
              "  </div>\n"
            ],
            "application/vnd.google.colaboratory.intrinsic+json": {
              "type": "dataframe",
              "variable_name": "df",
              "summary": "{\n  \"name\": \"df\",\n  \"rows\": 920,\n  \"fields\": [\n    {\n      \"column\": \"id\",\n      \"properties\": {\n        \"dtype\": \"number\",\n        \"std\": 265,\n        \"min\": 1,\n        \"max\": 920,\n        \"num_unique_values\": 920,\n        \"samples\": [\n          318,\n          376,\n          538\n        ],\n        \"semantic_type\": \"\",\n        \"description\": \"\"\n      }\n    },\n    {\n      \"column\": \"age\",\n      \"properties\": {\n        \"dtype\": \"number\",\n        \"std\": 9,\n        \"min\": 28,\n        \"max\": 77,\n        \"num_unique_values\": 50,\n        \"samples\": [\n          64,\n          74,\n          39\n        ],\n        \"semantic_type\": \"\",\n        \"description\": \"\"\n      }\n    },\n    {\n      \"column\": \"sex\",\n      \"properties\": {\n        \"dtype\": \"category\",\n        \"num_unique_values\": 2,\n        \"samples\": [\n          \"Female\",\n          \"Male\"\n        ],\n        \"semantic_type\": \"\",\n        \"description\": \"\"\n      }\n    },\n    {\n      \"column\": \"dataset\",\n      \"properties\": {\n        \"dtype\": \"category\",\n        \"num_unique_values\": 4,\n        \"samples\": [\n          \"Hungary\",\n          \"Switzerland\"\n        ],\n        \"semantic_type\": \"\",\n        \"description\": \"\"\n      }\n    },\n    {\n      \"column\": \"cp\",\n      \"properties\": {\n        \"dtype\": \"category\",\n        \"num_unique_values\": 4,\n        \"samples\": [\n          \"asymptomatic\",\n          \"atypical angina\"\n        ],\n        \"semantic_type\": \"\",\n        \"description\": \"\"\n      }\n    },\n    {\n      \"column\": \"trestbps\",\n      \"properties\": {\n        \"dtype\": \"number\",\n        \"std\": 18.451299974216326,\n        \"min\": 0.0,\n        \"max\": 200.0,\n        \"num_unique_values\": 61,\n        \"samples\": [\n          145.0,\n          172.0\n        ],\n        \"semantic_type\": \"\",\n        \"description\": \"\"\n      }\n    },\n    {\n      \"column\": \"chol\",\n      \"properties\": {\n        \"dtype\": \"number\",\n        \"std\": 51,\n        \"min\": 85,\n        \"max\": 603,\n        \"num_unique_values\": 216,\n        \"samples\": [\n          153,\n          333\n        ],\n        \"semantic_type\": \"\",\n        \"description\": \"\"\n      }\n    },\n    {\n      \"column\": \"fbs\",\n      \"properties\": {\n        \"dtype\": \"boolean\",\n        \"num_unique_values\": 2,\n        \"samples\": [\n          false,\n          true\n        ],\n        \"semantic_type\": \"\",\n        \"description\": \"\"\n      }\n    },\n    {\n      \"column\": \"restecg\",\n      \"properties\": {\n        \"dtype\": \"category\",\n        \"num_unique_values\": 3,\n        \"samples\": [\n          \"lv hypertrophy\",\n          \"normal\"\n        ],\n        \"semantic_type\": \"\",\n        \"description\": \"\"\n      }\n    },\n    {\n      \"column\": \"thalch\",\n      \"properties\": {\n        \"dtype\": \"number\",\n        \"std\": 25.145235299317264,\n        \"min\": 60.0,\n        \"max\": 202.0,\n        \"num_unique_values\": 119,\n        \"samples\": [\n          159.0,\n          134.0\n        ],\n        \"semantic_type\": \"\",\n        \"description\": \"\"\n      }\n    },\n    {\n      \"column\": \"exang\",\n      \"properties\": {\n        \"dtype\": \"boolean\",\n        \"num_unique_values\": 2,\n        \"samples\": [\n          true,\n          false\n        ],\n        \"semantic_type\": \"\",\n        \"description\": \"\"\n      }\n    },\n    {\n      \"column\": \"oldpeak\",\n      \"properties\": {\n        \"dtype\": \"number\",\n        \"std\": 1.0580486984557573,\n        \"min\": -2.6,\n        \"max\": 6.2,\n        \"num_unique_values\": 53,\n        \"samples\": [\n          2.4,\n          -1.1\n        ],\n        \"semantic_type\": \"\",\n        \"description\": \"\"\n      }\n    },\n    {\n      \"column\": \"slope\",\n      \"properties\": {\n        \"dtype\": \"category\",\n        \"num_unique_values\": 3,\n        \"samples\": [\n          \"downsloping\",\n          \"flat\"\n        ],\n        \"semantic_type\": \"\",\n        \"description\": \"\"\n      }\n    },\n    {\n      \"column\": \"ca\",\n      \"properties\": {\n        \"dtype\": \"number\",\n        \"std\": 0.7275613105208238,\n        \"min\": 0.0,\n        \"max\": 3.0,\n        \"num_unique_values\": 4,\n        \"samples\": [\n          3.0,\n          1.0\n        ],\n        \"semantic_type\": \"\",\n        \"description\": \"\"\n      }\n    },\n    {\n      \"column\": \"thal\",\n      \"properties\": {\n        \"dtype\": \"category\",\n        \"num_unique_values\": 3,\n        \"samples\": [\n          \"fixed defect\",\n          \"normal\"\n        ],\n        \"semantic_type\": \"\",\n        \"description\": \"\"\n      }\n    },\n    {\n      \"column\": \"num\",\n      \"properties\": {\n        \"dtype\": \"number\",\n        \"std\": 1,\n        \"min\": 0,\n        \"max\": 4,\n        \"num_unique_values\": 5,\n        \"samples\": [\n          2,\n          4\n        ],\n        \"semantic_type\": \"\",\n        \"description\": \"\"\n      }\n    }\n  ]\n}"
            }
          },
          "metadata": {},
          "execution_count": 8
        }
      ]
    },
    {
      "cell_type": "code",
      "source": [
        "from google.colab import drive\n",
        "drive.mount('/content/drive')"
      ],
      "metadata": {
        "colab": {
          "base_uri": "https://localhost:8080/"
        },
        "id": "2REj6akSjICd",
        "outputId": "2b2b0230-6f28-42d9-ac70-c80abcc31f6c"
      },
      "execution_count": null,
      "outputs": [
        {
          "output_type": "stream",
          "name": "stdout",
          "text": [
            "Mounted at /content/drive\n"
          ]
        }
      ]
    },
    {
      "cell_type": "markdown",
      "metadata": {
        "id": "ZytB3QExRNqi"
      },
      "source": [
        "#Dataset Inspection"
      ]
    },
    {
      "cell_type": "code",
      "execution_count": null,
      "metadata": {
        "id": "F7tZroORG-Gr",
        "colab": {
          "base_uri": "https://localhost:8080/"
        },
        "outputId": "26d5f559-7094-4a65-b0a6-f0470b12b6c8"
      },
      "outputs": [
        {
          "output_type": "stream",
          "name": "stdout",
          "text": [
            "<class 'pandas.core.frame.DataFrame'>\n",
            "RangeIndex: 920 entries, 0 to 919\n",
            "Data columns (total 16 columns):\n",
            " #   Column    Non-Null Count  Dtype  \n",
            "---  ------    --------------  -----  \n",
            " 0   id        920 non-null    int64  \n",
            " 1   age       920 non-null    int64  \n",
            " 2   sex       920 non-null    object \n",
            " 3   dataset   920 non-null    object \n",
            " 4   cp        920 non-null    object \n",
            " 5   trestbps  920 non-null    float64\n",
            " 6   chol      920 non-null    int64  \n",
            " 7   fbs       920 non-null    bool   \n",
            " 8   restecg   920 non-null    object \n",
            " 9   thalch    920 non-null    float64\n",
            " 10  exang     920 non-null    bool   \n",
            " 11  oldpeak   920 non-null    float64\n",
            " 12  slope     920 non-null    object \n",
            " 13  ca        920 non-null    float64\n",
            " 14  thal      920 non-null    object \n",
            " 15  num       920 non-null    int64  \n",
            "dtypes: bool(2), float64(4), int64(4), object(6)\n",
            "memory usage: 102.5+ KB\n"
          ]
        }
      ],
      "source": [
        "df.info()"
      ]
    },
    {
      "cell_type": "markdown",
      "metadata": {
        "id": "SLdGU0zwReJc"
      },
      "source": [
        "#Dataset Shape and summary"
      ]
    },
    {
      "cell_type": "code",
      "execution_count": null,
      "metadata": {
        "id": "te1uJtC0HKFQ",
        "colab": {
          "base_uri": "https://localhost:8080/"
        },
        "outputId": "9e87386d-c4d4-4406-acda-ee6cd61ebae0"
      },
      "outputs": [
        {
          "output_type": "execute_result",
          "data": {
            "text/plain": [
              "(920, 16)"
            ]
          },
          "metadata": {},
          "execution_count": 10
        }
      ],
      "source": [
        "df.shape"
      ]
    },
    {
      "cell_type": "code",
      "execution_count": null,
      "metadata": {
        "id": "eD3Ud5TaP5Lq",
        "colab": {
          "base_uri": "https://localhost:8080/"
        },
        "outputId": "b3eee681-57e2-4cda-f2d0-21484829c379"
      },
      "outputs": [
        {
          "output_type": "stream",
          "name": "stdout",
          "text": [
            "id          0\n",
            "age         0\n",
            "sex         0\n",
            "dataset     0\n",
            "cp          0\n",
            "trestbps    0\n",
            "chol        0\n",
            "fbs         0\n",
            "restecg     0\n",
            "thalch      0\n",
            "exang       0\n",
            "oldpeak     0\n",
            "slope       0\n",
            "ca          0\n",
            "thal        0\n",
            "num         0\n",
            "dtype: int64\n",
            "               id         age    trestbps        chol      thalch     oldpeak  \\\n",
            "count  920.000000  920.000000  920.000000  920.000000  920.000000  920.000000   \n",
            "mean   460.500000   53.510870  131.995652  246.650000  137.692391    0.853261   \n",
            "std    265.725422    9.424685   18.451300   51.697342   25.145235    1.058049   \n",
            "min      1.000000   28.000000    0.000000   85.000000   60.000000   -2.600000   \n",
            "25%    230.750000   47.000000  120.000000  217.750000  120.000000    0.000000   \n",
            "50%    460.500000   54.000000  130.000000  246.000000  140.000000    0.500000   \n",
            "75%    690.250000   60.000000  140.000000  267.000000  156.000000    1.500000   \n",
            "max    920.000000   77.000000  200.000000  603.000000  202.000000    6.200000   \n",
            "\n",
            "               ca         num  \n",
            "count  920.000000  920.000000  \n",
            "mean     0.361957    0.995652  \n",
            "std      0.727561    1.142693  \n",
            "min      0.000000    0.000000  \n",
            "25%      0.000000    0.000000  \n",
            "50%      0.000000    1.000000  \n",
            "75%      0.000000    2.000000  \n",
            "max      3.000000    4.000000  \n"
          ]
        }
      ],
      "source": [
        "# Check for missing values\n",
        "print(df.isnull().sum())\n",
        "\n",
        "# Check for outliers or unusual values in numerical columns\n",
        "# This could be as simple as checking basic statistics or using visualizations\n",
        "print(df.describe())\n"
      ]
    },
    {
      "cell_type": "markdown",
      "metadata": {
        "id": "CEOAQRVX8IbC"
      },
      "source": [
        "Inspecting labels of target variable"
      ]
    },
    {
      "cell_type": "code",
      "execution_count": null,
      "metadata": {
        "id": "JK39Wz5_8FlF",
        "colab": {
          "base_uri": "https://localhost:8080/",
          "height": 238
        },
        "outputId": "7857c158-c032-496a-c52c-ca7d34a08cde"
      },
      "outputs": [
        {
          "output_type": "execute_result",
          "data": {
            "text/plain": [
              "     count\n",
              "num       \n",
              "0      411\n",
              "1      265\n",
              "2      109\n",
              "3      107\n",
              "4       28"
            ],
            "text/html": [
              "\n",
              "  <div id=\"df-3d51507a-7609-420d-8176-b21eb75ec86a\" class=\"colab-df-container\">\n",
              "    <div>\n",
              "<style scoped>\n",
              "    .dataframe tbody tr th:only-of-type {\n",
              "        vertical-align: middle;\n",
              "    }\n",
              "\n",
              "    .dataframe tbody tr th {\n",
              "        vertical-align: top;\n",
              "    }\n",
              "\n",
              "    .dataframe thead th {\n",
              "        text-align: right;\n",
              "    }\n",
              "</style>\n",
              "<table border=\"1\" class=\"dataframe\">\n",
              "  <thead>\n",
              "    <tr style=\"text-align: right;\">\n",
              "      <th></th>\n",
              "      <th>count</th>\n",
              "    </tr>\n",
              "    <tr>\n",
              "      <th>num</th>\n",
              "      <th></th>\n",
              "    </tr>\n",
              "  </thead>\n",
              "  <tbody>\n",
              "    <tr>\n",
              "      <th>0</th>\n",
              "      <td>411</td>\n",
              "    </tr>\n",
              "    <tr>\n",
              "      <th>1</th>\n",
              "      <td>265</td>\n",
              "    </tr>\n",
              "    <tr>\n",
              "      <th>2</th>\n",
              "      <td>109</td>\n",
              "    </tr>\n",
              "    <tr>\n",
              "      <th>3</th>\n",
              "      <td>107</td>\n",
              "    </tr>\n",
              "    <tr>\n",
              "      <th>4</th>\n",
              "      <td>28</td>\n",
              "    </tr>\n",
              "  </tbody>\n",
              "</table>\n",
              "</div>\n",
              "    <div class=\"colab-df-buttons\">\n",
              "\n",
              "  <div class=\"colab-df-container\">\n",
              "    <button class=\"colab-df-convert\" onclick=\"convertToInteractive('df-3d51507a-7609-420d-8176-b21eb75ec86a')\"\n",
              "            title=\"Convert this dataframe to an interactive table.\"\n",
              "            style=\"display:none;\">\n",
              "\n",
              "  <svg xmlns=\"http://www.w3.org/2000/svg\" height=\"24px\" viewBox=\"0 -960 960 960\">\n",
              "    <path d=\"M120-120v-720h720v720H120Zm60-500h600v-160H180v160Zm220 220h160v-160H400v160Zm0 220h160v-160H400v160ZM180-400h160v-160H180v160Zm440 0h160v-160H620v160ZM180-180h160v-160H180v160Zm440 0h160v-160H620v160Z\"/>\n",
              "  </svg>\n",
              "    </button>\n",
              "\n",
              "  <style>\n",
              "    .colab-df-container {\n",
              "      display:flex;\n",
              "      gap: 12px;\n",
              "    }\n",
              "\n",
              "    .colab-df-convert {\n",
              "      background-color: #E8F0FE;\n",
              "      border: none;\n",
              "      border-radius: 50%;\n",
              "      cursor: pointer;\n",
              "      display: none;\n",
              "      fill: #1967D2;\n",
              "      height: 32px;\n",
              "      padding: 0 0 0 0;\n",
              "      width: 32px;\n",
              "    }\n",
              "\n",
              "    .colab-df-convert:hover {\n",
              "      background-color: #E2EBFA;\n",
              "      box-shadow: 0px 1px 2px rgba(60, 64, 67, 0.3), 0px 1px 3px 1px rgba(60, 64, 67, 0.15);\n",
              "      fill: #174EA6;\n",
              "    }\n",
              "\n",
              "    .colab-df-buttons div {\n",
              "      margin-bottom: 4px;\n",
              "    }\n",
              "\n",
              "    [theme=dark] .colab-df-convert {\n",
              "      background-color: #3B4455;\n",
              "      fill: #D2E3FC;\n",
              "    }\n",
              "\n",
              "    [theme=dark] .colab-df-convert:hover {\n",
              "      background-color: #434B5C;\n",
              "      box-shadow: 0px 1px 3px 1px rgba(0, 0, 0, 0.15);\n",
              "      filter: drop-shadow(0px 1px 2px rgba(0, 0, 0, 0.3));\n",
              "      fill: #FFFFFF;\n",
              "    }\n",
              "  </style>\n",
              "\n",
              "    <script>\n",
              "      const buttonEl =\n",
              "        document.querySelector('#df-3d51507a-7609-420d-8176-b21eb75ec86a button.colab-df-convert');\n",
              "      buttonEl.style.display =\n",
              "        google.colab.kernel.accessAllowed ? 'block' : 'none';\n",
              "\n",
              "      async function convertToInteractive(key) {\n",
              "        const element = document.querySelector('#df-3d51507a-7609-420d-8176-b21eb75ec86a');\n",
              "        const dataTable =\n",
              "          await google.colab.kernel.invokeFunction('convertToInteractive',\n",
              "                                                    [key], {});\n",
              "        if (!dataTable) return;\n",
              "\n",
              "        const docLinkHtml = 'Like what you see? Visit the ' +\n",
              "          '<a target=\"_blank\" href=https://colab.research.google.com/notebooks/data_table.ipynb>data table notebook</a>'\n",
              "          + ' to learn more about interactive tables.';\n",
              "        element.innerHTML = '';\n",
              "        dataTable['output_type'] = 'display_data';\n",
              "        await google.colab.output.renderOutput(dataTable, element);\n",
              "        const docLink = document.createElement('div');\n",
              "        docLink.innerHTML = docLinkHtml;\n",
              "        element.appendChild(docLink);\n",
              "      }\n",
              "    </script>\n",
              "  </div>\n",
              "\n",
              "\n",
              "<div id=\"df-e4ebf8db-0b36-494e-a263-93b6134921a3\">\n",
              "  <button class=\"colab-df-quickchart\" onclick=\"quickchart('df-e4ebf8db-0b36-494e-a263-93b6134921a3')\"\n",
              "            title=\"Suggest charts\"\n",
              "            style=\"display:none;\">\n",
              "\n",
              "<svg xmlns=\"http://www.w3.org/2000/svg\" height=\"24px\"viewBox=\"0 0 24 24\"\n",
              "     width=\"24px\">\n",
              "    <g>\n",
              "        <path d=\"M19 3H5c-1.1 0-2 .9-2 2v14c0 1.1.9 2 2 2h14c1.1 0 2-.9 2-2V5c0-1.1-.9-2-2-2zM9 17H7v-7h2v7zm4 0h-2V7h2v10zm4 0h-2v-4h2v4z\"/>\n",
              "    </g>\n",
              "</svg>\n",
              "  </button>\n",
              "\n",
              "<style>\n",
              "  .colab-df-quickchart {\n",
              "      --bg-color: #E8F0FE;\n",
              "      --fill-color: #1967D2;\n",
              "      --hover-bg-color: #E2EBFA;\n",
              "      --hover-fill-color: #174EA6;\n",
              "      --disabled-fill-color: #AAA;\n",
              "      --disabled-bg-color: #DDD;\n",
              "  }\n",
              "\n",
              "  [theme=dark] .colab-df-quickchart {\n",
              "      --bg-color: #3B4455;\n",
              "      --fill-color: #D2E3FC;\n",
              "      --hover-bg-color: #434B5C;\n",
              "      --hover-fill-color: #FFFFFF;\n",
              "      --disabled-bg-color: #3B4455;\n",
              "      --disabled-fill-color: #666;\n",
              "  }\n",
              "\n",
              "  .colab-df-quickchart {\n",
              "    background-color: var(--bg-color);\n",
              "    border: none;\n",
              "    border-radius: 50%;\n",
              "    cursor: pointer;\n",
              "    display: none;\n",
              "    fill: var(--fill-color);\n",
              "    height: 32px;\n",
              "    padding: 0;\n",
              "    width: 32px;\n",
              "  }\n",
              "\n",
              "  .colab-df-quickchart:hover {\n",
              "    background-color: var(--hover-bg-color);\n",
              "    box-shadow: 0 1px 2px rgba(60, 64, 67, 0.3), 0 1px 3px 1px rgba(60, 64, 67, 0.15);\n",
              "    fill: var(--button-hover-fill-color);\n",
              "  }\n",
              "\n",
              "  .colab-df-quickchart-complete:disabled,\n",
              "  .colab-df-quickchart-complete:disabled:hover {\n",
              "    background-color: var(--disabled-bg-color);\n",
              "    fill: var(--disabled-fill-color);\n",
              "    box-shadow: none;\n",
              "  }\n",
              "\n",
              "  .colab-df-spinner {\n",
              "    border: 2px solid var(--fill-color);\n",
              "    border-color: transparent;\n",
              "    border-bottom-color: var(--fill-color);\n",
              "    animation:\n",
              "      spin 1s steps(1) infinite;\n",
              "  }\n",
              "\n",
              "  @keyframes spin {\n",
              "    0% {\n",
              "      border-color: transparent;\n",
              "      border-bottom-color: var(--fill-color);\n",
              "      border-left-color: var(--fill-color);\n",
              "    }\n",
              "    20% {\n",
              "      border-color: transparent;\n",
              "      border-left-color: var(--fill-color);\n",
              "      border-top-color: var(--fill-color);\n",
              "    }\n",
              "    30% {\n",
              "      border-color: transparent;\n",
              "      border-left-color: var(--fill-color);\n",
              "      border-top-color: var(--fill-color);\n",
              "      border-right-color: var(--fill-color);\n",
              "    }\n",
              "    40% {\n",
              "      border-color: transparent;\n",
              "      border-right-color: var(--fill-color);\n",
              "      border-top-color: var(--fill-color);\n",
              "    }\n",
              "    60% {\n",
              "      border-color: transparent;\n",
              "      border-right-color: var(--fill-color);\n",
              "    }\n",
              "    80% {\n",
              "      border-color: transparent;\n",
              "      border-right-color: var(--fill-color);\n",
              "      border-bottom-color: var(--fill-color);\n",
              "    }\n",
              "    90% {\n",
              "      border-color: transparent;\n",
              "      border-bottom-color: var(--fill-color);\n",
              "    }\n",
              "  }\n",
              "</style>\n",
              "\n",
              "  <script>\n",
              "    async function quickchart(key) {\n",
              "      const quickchartButtonEl =\n",
              "        document.querySelector('#' + key + ' button');\n",
              "      quickchartButtonEl.disabled = true;  // To prevent multiple clicks.\n",
              "      quickchartButtonEl.classList.add('colab-df-spinner');\n",
              "      try {\n",
              "        const charts = await google.colab.kernel.invokeFunction(\n",
              "            'suggestCharts', [key], {});\n",
              "      } catch (error) {\n",
              "        console.error('Error during call to suggestCharts:', error);\n",
              "      }\n",
              "      quickchartButtonEl.classList.remove('colab-df-spinner');\n",
              "      quickchartButtonEl.classList.add('colab-df-quickchart-complete');\n",
              "    }\n",
              "    (() => {\n",
              "      let quickchartButtonEl =\n",
              "        document.querySelector('#df-e4ebf8db-0b36-494e-a263-93b6134921a3 button');\n",
              "      quickchartButtonEl.style.display =\n",
              "        google.colab.kernel.accessAllowed ? 'block' : 'none';\n",
              "    })();\n",
              "  </script>\n",
              "</div>\n",
              "\n",
              "    </div>\n",
              "  </div>\n"
            ],
            "application/vnd.google.colaboratory.intrinsic+json": {
              "type": "dataframe",
              "summary": "{\n  \"name\": \"pd\",\n  \"rows\": 5,\n  \"fields\": [\n    {\n      \"column\": \"num\",\n      \"properties\": {\n        \"dtype\": \"number\",\n        \"std\": 1,\n        \"min\": 0,\n        \"max\": 4,\n        \"num_unique_values\": 5,\n        \"samples\": [\n          1,\n          4,\n          2\n        ],\n        \"semantic_type\": \"\",\n        \"description\": \"\"\n      }\n    },\n    {\n      \"column\": \"count\",\n      \"properties\": {\n        \"dtype\": \"number\",\n        \"std\": 153,\n        \"min\": 28,\n        \"max\": 411,\n        \"num_unique_values\": 5,\n        \"samples\": [\n          265,\n          28,\n          109\n        ],\n        \"semantic_type\": \"\",\n        \"description\": \"\"\n      }\n    }\n  ]\n}"
            }
          },
          "metadata": {},
          "execution_count": 12
        }
      ],
      "source": [
        "num_df = df['num'].value_counts()\n",
        "pd.DataFrame(num_df)"
      ]
    },
    {
      "cell_type": "markdown",
      "metadata": {
        "id": "zKbOPmyqBiax"
      },
      "source": [
        "#Data Preprocessing"
      ]
    },
    {
      "cell_type": "code",
      "execution_count": null,
      "metadata": {
        "id": "GIF8tDONZLf9"
      },
      "outputs": [],
      "source": [
        "# Plotting the histogram and boxplot to check the data distribution for the numerical columns\n",
        "def plot_histogram_and_boxplot(df, numerical_cols, cyan_palette=[\"#9468F8\"]):\n",
        "    # Set to \"dark\" for a black background\n",
        "    #sns.set(style=\"dark\", palette=\"deep\")\n",
        "    shade = \"#0000ff\"\n",
        "    # Set the figure size to accommodate the subplots\n",
        "    plt.figure(figsize=(15, len(numerical_cols) * 5))\n",
        "\n",
        "    # Loop through each numerical column and create a row with a histogram and a boxplot\n",
        "    for i, col in enumerate(numerical_cols):\n",
        "        # Histogram (left)\n",
        "        ax1 = plt.subplot(len(numerical_cols), 2, 2*i + 1)\n",
        "        sns.histplot(df[col], kde=True, bins=30, color='blue')\n",
        "        plt.title(f'Histogram of {col}')\n",
        "        plt.xlabel(col)\n",
        "        plt.ylabel('Count')\n",
        "        ax1.set_facecolor('#ffffff')\n",
        "\n",
        "        # Boxplot (right)\n",
        "        ax2 = plt.subplot(len(numerical_cols), 2, 2*i + 2)\n",
        "        sns.boxplot(x=df[col], color=cyan_palette[0], linewidth=1.5,medianprops={'color': 'white', 'linewidth': 2},\n",
        "                    flierprops=dict(markerfacecolor=shade, marker='o', markeredgecolor=shade, markersize=5),\n",
        "                    whiskerprops=dict(color=shade, linewidth=2.0),\n",
        "                    capprops=dict(color=shade, linewidth=2.0),\n",
        "                    boxprops=dict(edgecolor=shade, linewidth=2.0)),\n",
        "\n",
        "        plt.title(f'Boxplot of {col}')\n",
        "        ax2.set_facecolor('#ffffff')\n",
        "\n",
        "    # Adjust layout for better readability and display the plot\n",
        "    plt.tight_layout()\n",
        "    plt.show()"
      ]
    },
    {
      "cell_type": "code",
      "source": [
        "categorical_cols = ['sex','exang','cp','fbs','restecg','slope','thal','ca']\n",
        "numerical_cols = [\"id\", \"age\",\"trestbps\",\"chol\",\"thalch\", \"oldpeak\"]\n",
        "target_col = [\"num\"]\n",
        "print(\"The categorical cols are : \", categorical_cols)\n",
        "print(\"The numerical cols are : \", numerical_cols)\n",
        "print(\"The target variable is :  \", target_col)"
      ],
      "metadata": {
        "colab": {
          "base_uri": "https://localhost:8080/"
        },
        "id": "FgiJBvpy2xaz",
        "outputId": "89cb4aa2-9397-46ab-8f94-945f27e87a2c"
      },
      "execution_count": null,
      "outputs": [
        {
          "output_type": "stream",
          "name": "stdout",
          "text": [
            "The categorical cols are :  ['sex', 'exang', 'cp', 'fbs', 'restecg', 'slope', 'thal', 'ca']\n",
            "The numerical cols are :  ['id', 'age', 'trestbps', 'chol', 'thalch', 'oldpeak']\n",
            "The target variable is :   ['num']\n"
          ]
        }
      ]
    },
    {
      "cell_type": "code",
      "execution_count": null,
      "metadata": {
        "id": "rRpSFjq4wlTK",
        "colab": {
          "base_uri": "https://localhost:8080/"
        },
        "outputId": "3faedd12-be32-4bd3-e122-491b511355d8"
      },
      "outputs": [
        {
          "output_type": "execute_result",
          "data": {
            "text/plain": [
              "count    920.000000\n",
              "mean       0.853261\n",
              "std        1.058049\n",
              "min       -2.600000\n",
              "25%        0.000000\n",
              "50%        0.500000\n",
              "75%        1.500000\n",
              "max        6.200000\n",
              "Name: oldpeak, dtype: float64"
            ]
          },
          "metadata": {},
          "execution_count": 15
        }
      ],
      "source": [
        "df.oldpeak.describe()"
      ]
    },
    {
      "cell_type": "markdown",
      "source": [
        "Dealing with Outliers\n",
        "The use of the Interquartile Range (IQR) method for outlier removal is a standard statistical practice aimed at mitigating the impact of extreme values in a dataset, which can distort analyses, especially under the assumption of normal data distribution. This method calculates the IQR as the difference between the 25th (Q1) and 75th (Q3) percentiles of the data, identifying outliers as values outside 1.5 times the IQR from Q1 and Q3.\n",
        "\n",
        "In the context of heart disease prediction, while the IQR method is applied to clean the data, cholesterol levels ('chol') are deliberately excluded from this outlier removal process. This exception is made due to the clinical importance of cholesterol levels as a significant risk factor for heart disease. Unlike typical outliers, extreme cholesterol values may carry vital information about individual risks for heart disease. Removing these values could eliminate critical data, reducing the predictive model's effectiveness and clinical relevance."
      ],
      "metadata": {
        "id": "feubHAveJDoO"
      }
    },
    {
      "cell_type": "code",
      "execution_count": null,
      "metadata": {
        "id": "i9Jx0koOx0aF",
        "colab": {
          "base_uri": "https://localhost:8080/"
        },
        "outputId": "630faf57-e0ab-49db-c931-36e95d76e5b0"
      },
      "outputs": [
        {
          "output_type": "stream",
          "name": "stdout",
          "text": [
            "Skewness of oldpeak: 1.1347025952263665\n"
          ]
        }
      ],
      "source": [
        "skewness = df['oldpeak'].skew()\n",
        "print(\"Skewness of oldpeak:\", skewness)\n"
      ]
    },
    {
      "cell_type": "code",
      "execution_count": null,
      "metadata": {
        "id": "6gWrlOhiz8I_",
        "colab": {
          "base_uri": "https://localhost:8080/",
          "height": 450
        },
        "outputId": "8137d8b6-9bda-45e8-e9a1-cd03585103b5"
      },
      "outputs": [
        {
          "output_type": "display_data",
          "data": {
            "text/plain": [
              "<Figure size 1500x500 with 2 Axes>"
            ],
            "image/png": "[encoded data removed]"
          },
          "metadata": {}
        }
      ],
      "source": [
        "import seaborn as sns\n",
        "import matplotlib.pyplot as plt\n",
        "import numpy as np\n",
        "plot_histogram_and_boxplot(df, ['oldpeak'])"
      ]
    },
    {
      "cell_type": "markdown",
      "metadata": {
        "id": "8Xf0yqmTza-I"
      },
      "source": [
        "Given that the skewness of the oldpeak distribution is approximately 1.1347, this indicates that the distribution is positively skewed, or right-skewed.This typically implies that there are a significant number of outlier values on the higher end of the oldpeak range, which could potentially influence any analysis or statistical modeling using this data. This would be addressed skewness by categorizing 'Oldpeak' via Binning to mitigate its skewed distributions.This approach not only simplifies the variable by grouping continuous data into discrete intervals, but also helps to minimize the influence of outliers and extreme values that can distort model training and statistical analysis."
      ]
    },
    {
      "cell_type": "code",
      "execution_count": null,
      "metadata": {
        "id": "UhH1glUu3pi-",
        "colab": {
          "base_uri": "https://localhost:8080/",
          "height": 620
        },
        "outputId": "47b167f5-c8a9-4e70-dc0a-febecd543b40"
      },
      "outputs": [
        {
          "output_type": "stream",
          "name": "stderr",
          "text": [
            "<ipython-input-18-5d53b3874c0c>:29: FutureWarning: \n",
            "\n",
            "Passing `palette` without assigning `hue` is deprecated and will be removed in v0.14.0. Assign the `x` variable to `hue` and set `legend=False` for the same effect.\n",
            "\n",
            "  sns.countplot(x='oldpeak_binned', data=df, palette='viridis')  # Adjust the palette as needed\n"
          ]
        },
        {
          "output_type": "display_data",
          "data": {
            "text/plain": [
              "<Figure size 800x400 with 1 Axes>"
            ],
            "image/png": "[encoded data removed]"
          },
          "metadata": {}
        }
      ],
      "source": [
        "import pandas as pd\n",
        "import matplotlib.pyplot as plt\n",
        "import seaborn as sns\n",
        "\n",
        "# Assuming 'df' is your DataFrame and it already contains the 'oldpeak' column\n",
        "\n",
        "# Define the number of bins\n",
        "number_of_bins = 4\n",
        "\n",
        "# Calculate the range of the data (max - min)\n",
        "max_oldpeak = df['oldpeak'].max()\n",
        "min_oldpeak = df['oldpeak'].min()\n",
        "data_range = max_oldpeak - min_oldpeak\n",
        "\n",
        "# Calculate the bin width\n",
        "bin_width = data_range / number_of_bins\n",
        "\n",
        "# Generate the bin edges\n",
        "bin_edges = [min_oldpeak + i * bin_width for i in range(number_of_bins + 1)]\n",
        "\n",
        "# Define labels for the bins.\n",
        "bin_labels = ['No Depression', 'Mild Depression', 'Moderate Depression', 'Severe Depression']\n",
        "\n",
        "# Bin the 'oldpeak' data and create a new column for the binned data\n",
        "df['oldpeak_binned'] = pd.cut(df['oldpeak'], bins=bin_edges, labels=bin_labels, include_lowest=True)\n",
        "\n",
        "# Plot the distribution of the binned data.\n",
        "plt.figure(figsize=(8, 4))\n",
        "sns.countplot(x='oldpeak_binned', data=df, palette='viridis')  # Adjust the palette as needed\n",
        "\n",
        "plt.title('Distribution of Binned \"oldpeak\" Values')\n",
        "plt.xlabel('Binned \"oldpeak\" Categories')\n",
        "plt.ylabel('Count')\n",
        "plt.xticks(rotation=45)\n",
        "\n",
        "plt.show()\n",
        "\n"
      ]
    },
    {
      "cell_type": "code",
      "execution_count": null,
      "metadata": {
        "id": "W0fPeuh24S9R"
      },
      "outputs": [],
      "source": [
        "df['oldpeak'] = df['oldpeak_binned']\n",
        "df.drop('oldpeak_binned', axis=1, inplace=True)"
      ]
    },
    {
      "cell_type": "markdown",
      "metadata": {
        "id": "ZW2oTOF1bQu5"
      },
      "source": [
        "#Visualizing data distribution with Histogram and Boxplot to see outliers"
      ]
    },
    {
      "cell_type": "code",
      "execution_count": null,
      "metadata": {
        "id": "0UrSvIoBJEbT",
        "colab": {
          "base_uri": "https://localhost:8080/",
          "height": 1000
        },
        "outputId": "17a8548c-97d8-4ffb-e82a-2f0c7264b4c6"
      },
      "outputs": [
        {
          "output_type": "display_data",
          "data": {
            "text/plain": [
              "<Figure size 1500x2000 with 8 Axes>"
            ],
            "image/png": "[encoded data removed]"
          },
          "metadata": {}
        }
      ],
      "source": [
        "# Remove id and old peak column from numerical_cols\n",
        "numerical_cols.remove('id')\n",
        "numerical_cols.remove('oldpeak')\n",
        "\n",
        "\n",
        "\n",
        "\n",
        "# Plot histogram and boxplot for numerical columns before scaling\n",
        "plot_histogram_and_boxplot(df, numerical_cols)"
      ]
    },
    {
      "cell_type": "code",
      "source": [
        "Q1 = df[numerical_cols].quantile(0.25)\n",
        "Q3 = df[numerical_cols].quantile(0.75)\n",
        "IQR = Q3 - Q1\n",
        "outliers_count_specified = ((df[numerical_cols] < (Q1 - 1.5 * IQR)) | (df[numerical_cols] > (Q3 + 1.5 * IQR))).sum()\n",
        "\n",
        "outliers_count_specified"
      ],
      "metadata": {
        "colab": {
          "base_uri": "https://localhost:8080/"
        },
        "id": "z6XzY19c4XP5",
        "outputId": "f17cdabf-d6c6-43b1-cabf-af6da6261b88"
      },
      "execution_count": null,
      "outputs": [
        {
          "output_type": "execute_result",
          "data": {
            "text/plain": [
              "age          0\n",
              "trestbps    28\n",
              "chol        47\n",
              "thalch       2\n",
              "dtype: int64"
            ]
          },
          "metadata": {},
          "execution_count": 21
        }
      ]
    },
    {
      "cell_type": "code",
      "source": [
        "# Get value count for the target variable\n",
        "df['ca'].value_counts()"
      ],
      "metadata": {
        "colab": {
          "base_uri": "https://localhost:8080/"
        },
        "id": "Tr-foD7m5Oua",
        "outputId": "9bf91f05-ad41-4261-c3e3-7306eef801ea"
      },
      "execution_count": null,
      "outputs": [
        {
          "output_type": "execute_result",
          "data": {
            "text/plain": [
              "ca\n",
              "0.0    702\n",
              "1.0    125\n",
              "2.0     71\n",
              "3.0     22\n",
              "Name: count, dtype: int64"
            ]
          },
          "metadata": {},
          "execution_count": 22
        }
      ]
    },
    {
      "cell_type": "code",
      "source": [
        "categorical_cols = ['sex','exang','cp','fbs','restecg','slope','thal', \"ca\", \"oldpeak\"]\n",
        "numerical_cols = [\"id\", \"age\",\"trestbps\",\"chol\",\"thalch\"]\n",
        "target_col = [\"num\"]\n",
        "print(\"The categorical cols are : \", categorical_cols)\n",
        "print(\"The numerical cols are : \", numerical_cols)\n",
        "print(\"The target variable is :  \", target_col)"
      ],
      "metadata": {
        "colab": {
          "base_uri": "https://localhost:8080/"
        },
        "id": "iyE_DMHd5vns",
        "outputId": "fcaded54-7f2f-473b-9597-8e3999199340"
      },
      "execution_count": null,
      "outputs": [
        {
          "output_type": "stream",
          "name": "stdout",
          "text": [
            "The categorical cols are :  ['sex', 'exang', 'cp', 'fbs', 'restecg', 'slope', 'thal', 'ca', 'oldpeak']\n",
            "The numerical cols are :  ['id', 'age', 'trestbps', 'chol', 'thalch']\n",
            "The target variable is :   ['num']\n"
          ]
        }
      ]
    },
    {
      "cell_type": "markdown",
      "source": [
        "#Dealing with Outliers\n",
        "\n",
        "\n",
        "\n",
        "\n",
        "The use of the Interquartile Range (IQR) method for outlier removal is a standard statistical practice aimed at mitigating the impact of extreme values in a dataset, which can distort analyses, especially under the assumption of normal data distribution. This method calculates the IQR as the difference between the 25th (Q1) and 75th (Q3) percentiles of the data, identifying outliers as values outside 1.5 times the IQR from Q1 and Q3.\n",
        "\n",
        "In the context of heart disease prediction, while the IQR method is applied to clean the data, cholesterol levels ('chol') are deliberately excluded from this outlier removal process. This exception is made due to the clinical importance of cholesterol levels as a significant risk factor for heart disease. Unlike typical outliers, extreme cholesterol values may carry vital information about individual risks for heart disease. Removing these values could eliminate critical data, reducing the predictive model's effectiveness and clinical relevance."
      ],
      "metadata": {
        "id": "S7Rlpq43mtBO"
      }
    },
    {
      "cell_type": "code",
      "execution_count": null,
      "metadata": {
        "id": "WyFhHCedJt28"
      },
      "outputs": [],
      "source": [
        "#from sklearn.base import BaseEstimator, TransformerMixin\n",
        "#import pandas as pd\n",
        "#import numpy as np\n",
        "\n",
        "#class OutlierDetector(BaseEstimator, TransformerMixin):\n",
        "    #def __init__(self, factor=1.5):\n",
        "        #self.factor = factor\n",
        "\n",
        "    #def fit(self, X, y=None):\n",
        "        # Calculate the bounds for each column\n",
        "        #self.bounds_ = {}\n",
        "        #numerical_cols = X.select_dtypes(include=[np.number]).columns  # Only process numeric columns\n",
        "        #for column in numerical_cols:\n",
        "            #Q1 = X[column].quantile(0.25)\n",
        "            #Q3 = X[column].quantile(0.75)\n",
        "            #IQR = Q3 - Q1\n",
        "            #self.bounds_[column] = {'lower': Q1 - self.factor * IQR, 'upper': Q3 + self.factor * IQR}\n",
        "        #return self\n",
        "\n",
        "    #def transform(self, X):\n",
        "        #X_filtered = X.copy()\n",
        "        #numerical_cols = X.select_dtypes(include=[np.number]).columns  # Only process numeric columns\n",
        "        #for column in numerical_cols:\n",
        "            #lower_bound = self.bounds_[column]['lower']\n",
        "            #upper_bound = self.bounds_[column]['upper']\n",
        "            # Filter rows that are outside the bounds\n",
        "            #X_filtered = X_filtered[(X_filtered[column] >= lower_bound) & (X_filtered[column] <= upper_bound)]\n",
        "        #return X_filtered\n"
      ]
    },
    {
      "cell_type": "code",
      "source": [
        "def print_heading(text):\n",
        "    \"\"\"\n",
        "    Prints the provided text as a formatted heading.\n",
        "\n",
        "    Parameters:\n",
        "        text (str): The text to format and print as a heading.\n",
        "    \"\"\"\n",
        "    print(\"\\n\" + \"=\" * 50)\n",
        "    print(text.upper())\n",
        "    print(\"=\" * 50 + \"\\n\")\n",
        "\n",
        "# Usage example:\n",
        "print_heading('Dataset shape inspect')\n"
      ],
      "metadata": {
        "colab": {
          "base_uri": "https://localhost:8080/"
        },
        "id": "NA3NJZNf7JNx",
        "outputId": "03b68737-e976-4e52-88a9-21c277fa1c03"
      },
      "execution_count": null,
      "outputs": [
        {
          "output_type": "stream",
          "name": "stdout",
          "text": [
            "\n",
            "==================================================\n",
            "DATASET SHAPE INSPECT\n",
            "==================================================\n",
            "\n"
          ]
        }
      ]
    },
    {
      "cell_type": "code",
      "execution_count": null,
      "metadata": {
        "id": "eXOIonLW4EaD",
        "colab": {
          "base_uri": "https://localhost:8080/"
        },
        "outputId": "93bd9b2b-27b7-4f00-bbe2-d96177fa45e5"
      },
      "outputs": [
        {
          "output_type": "stream",
          "name": "stdout",
          "text": [
            "\n",
            "==================================================\n",
            "OBSERVATIONS FROM OLDPEAK BINNED\n",
            "==================================================\n",
            "\n"
          ]
        },
        {
          "output_type": "execute_result",
          "data": {
            "text/plain": [
              "oldpeak\n",
              "Mild Depression        728\n",
              "Moderate Depression    175\n",
              "No Depression           11\n",
              "Severe Depression        6\n",
              "Name: count, dtype: int64"
            ]
          },
          "metadata": {},
          "execution_count": 26
        }
      ],
      "source": [
        "print_heading('Observations from oldpeak binned')\n",
        "df['oldpeak'].value_counts()"
      ]
    },
    {
      "cell_type": "markdown",
      "metadata": {
        "id": "co7G5cJddnlG"
      },
      "source": [
        "#Transforming the multilabel target variable into a binary classification problem for easy decision making.\n",
        "\n",
        "Approach: Binary Transformation: A new column 'num_binary' is introduced, assigning '1' for any indication of heart disease (originally represented by 'num' > 0) and '0' for its absence (originally 'num' = 0). This step simplifies the multiple disease stages into a two-category problem, facilitating a focused analysis on the critical binary outcome of heart disease presence or absence by converting it into a binary format, we create a clear dichotomy: (1)'detected' for the presence of heart disease and (0)'not detected' for its absence."
      ]
    },
    {
      "cell_type": "code",
      "execution_count": null,
      "metadata": {
        "id": "7IkUulmdc1X8",
        "colab": {
          "base_uri": "https://localhost:8080/"
        },
        "outputId": "9a48ff6a-724c-473b-862a-55de412de899"
      },
      "outputs": [
        {
          "output_type": "execute_result",
          "data": {
            "text/plain": [
              "num\n",
              "0    411\n",
              "1    265\n",
              "2    109\n",
              "3    107\n",
              "4     28\n",
              "Name: count, dtype: int64"
            ]
          },
          "metadata": {},
          "execution_count": 27
        }
      ],
      "source": [
        "# Get value count for the target variable\n",
        "df['num'].value_counts()"
      ]
    },
    {
      "cell_type": "code",
      "execution_count": null,
      "metadata": {
        "id": "Kw2EtkM_fk2G"
      },
      "outputs": [],
      "source": [
        "# Create a new column 'num_binary' in the dataframe 'df'.\n",
        "# If 'num' is greater than or equal to 2, 'num_binary' is 1, otherwise 0.\n",
        "df['num_binary'] = df['num'].apply(lambda x:1 if x >= 2 else 0)\n",
        "\n",
        "# Replace the 'num' column with the 'num_binary' column\n",
        "df['num'] = df['num_binary']\n",
        "\n",
        "# Drop the 'num_binary' column as it is no longer needed\n",
        "df.drop('num_binary', axis=1, inplace=True)"
      ]
    },
    {
      "cell_type": "code",
      "execution_count": null,
      "metadata": {
        "id": "8XWiONTSfuZp",
        "colab": {
          "base_uri": "https://localhost:8080/"
        },
        "outputId": "cf46e34d-1bc2-4749-fcee-ee57e79d8d2d"
      },
      "outputs": [
        {
          "output_type": "execute_result",
          "data": {
            "text/plain": [
              "num\n",
              "0    676\n",
              "1    244\n",
              "Name: count, dtype: int64"
            ]
          },
          "metadata": {},
          "execution_count": 29
        }
      ],
      "source": [
        "# Get value count for the target variable\n",
        "df['num'].value_counts()"
      ]
    },
    {
      "cell_type": "code",
      "execution_count": null,
      "metadata": {
        "id": "waYv1OiymLWR",
        "colab": {
          "base_uri": "https://localhost:8080/"
        },
        "outputId": "e6bfd9e9-4f0a-4dd5-9a94-0786c2ba9960"
      },
      "outputs": [
        {
          "output_type": "stream",
          "name": "stdout",
          "text": [
            "Requirement already satisfied: scikit-learn in /usr/local/lib/python3.10/dist-packages (1.2.2)\n",
            "Requirement already satisfied: xgboost in /usr/local/lib/python3.10/dist-packages (2.0.3)\n",
            "Collecting catboost\n",
            "  Downloading catboost-1.2.5-cp310-cp310-manylinux2014_x86_64.whl (98.2 MB)\n",
            "\u001b[2K     \u001b[90m━━━━━━━━━━━━━━━━━━━━━━━━━━━━━━━━━━━━━━━━\u001b[0m \u001b[32m98.2/98.2 MB\u001b[0m \u001b[31m6.1 MB/s\u001b[0m eta \u001b[36m0:00:00\u001b[0m\n",
            "\u001b[?25hRequirement already satisfied: lightgbm in /usr/local/lib/python3.10/dist-packages (4.1.0)\n",
            "Requirement already satisfied: numpy>=1.17.3 in /usr/local/lib/python3.10/dist-packages (from scikit-learn) (1.25.2)\n",
            "Requirement already satisfied: scipy>=1.3.2 in /usr/local/lib/python3.10/dist-packages (from scikit-learn) (1.11.4)\n",
            "Requirement already satisfied: joblib>=1.1.1 in /usr/local/lib/python3.10/dist-packages (from scikit-learn) (1.4.0)\n",
            "Requirement already satisfied: threadpoolctl>=2.0.0 in /usr/local/lib/python3.10/dist-packages (from scikit-learn) (3.4.0)\n",
            "Requirement already satisfied: graphviz in /usr/local/lib/python3.10/dist-packages (from catboost) (0.20.3)\n",
            "Requirement already satisfied: matplotlib in /usr/local/lib/python3.10/dist-packages (from catboost) (3.7.1)\n",
            "Requirement already satisfied: pandas>=0.24 in /usr/local/lib/python3.10/dist-packages (from catboost) (2.0.3)\n",
            "Requirement already satisfied: plotly in /usr/local/lib/python3.10/dist-packages (from catboost) (5.15.0)\n",
            "Requirement already satisfied: six in /usr/local/lib/python3.10/dist-packages (from catboost) (1.16.0)\n",
            "Requirement already satisfied: python-dateutil>=2.8.2 in /usr/local/lib/python3.10/dist-packages (from pandas>=0.24->catboost) (2.8.2)\n",
            "Requirement already satisfied: pytz>=2020.1 in /usr/local/lib/python3.10/dist-packages (from pandas>=0.24->catboost) (2023.4)\n",
            "Requirement already satisfied: tzdata>=2022.1 in /usr/local/lib/python3.10/dist-packages (from pandas>=0.24->catboost) (2024.1)\n",
            "Requirement already satisfied: contourpy>=1.0.1 in /usr/local/lib/python3.10/dist-packages (from matplotlib->catboost) (1.2.1)\n",
            "Requirement already satisfied: cycler>=0.10 in /usr/local/lib/python3.10/dist-packages (from matplotlib->catboost) (0.12.1)\n",
            "Requirement already satisfied: fonttools>=4.22.0 in /usr/local/lib/python3.10/dist-packages (from matplotlib->catboost) (4.51.0)\n",
            "Requirement already satisfied: kiwisolver>=1.0.1 in /usr/local/lib/python3.10/dist-packages (from matplotlib->catboost) (1.4.5)\n",
            "Requirement already satisfied: packaging>=20.0 in /usr/local/lib/python3.10/dist-packages (from matplotlib->catboost) (24.0)\n",
            "Requirement already satisfied: pillow>=6.2.0 in /usr/local/lib/python3.10/dist-packages (from matplotlib->catboost) (9.4.0)\n",
            "Requirement already satisfied: pyparsing>=2.3.1 in /usr/local/lib/python3.10/dist-packages (from matplotlib->catboost) (3.1.2)\n",
            "Requirement already satisfied: tenacity>=6.2.0 in /usr/local/lib/python3.10/dist-packages (from plotly->catboost) (8.2.3)\n",
            "Installing collected packages: catboost\n",
            "Successfully installed catboost-1.2.5\n"
          ]
        }
      ],
      "source": [
        "pip install scikit-learn xgboost catboost lightgbm"
      ]
    },
    {
      "cell_type": "code",
      "execution_count": null,
      "metadata": {
        "id": "vio60cFNl821"
      },
      "outputs": [],
      "source": [
        "# Importing models from sklearn\n",
        "from sklearn.linear_model import LogisticRegression\n",
        "from sklearn.svm import SVC\n",
        "from sklearn.tree import DecisionTreeClassifier\n",
        "from sklearn.ensemble import RandomForestClassifier, AdaBoostClassifier, GradientBoostingClassifier\n",
        "from sklearn.neighbors import KNeighborsClassifier\n",
        "\n",
        "# Importing models from xgboost, catboost, and lightgbm\n",
        "from xgboost import XGBClassifier\n",
        "from catboost import CatBoostClassifier\n",
        "from lightgbm import LGBMClassifier\n",
        "from sklearn.pipeline import Pipeline\n",
        "from sklearn.model_selection import GridSearchCV\n",
        "from sklearn.metrics import accuracy_score, precision_score, recall_score, f1_score\n",
        "from sklearn.pipeline import Pipeline\n",
        "from sklearn.compose import ColumnTransformer\n",
        "from sklearn.preprocessing import OneHotEncoder, QuantileTransformer, MinMaxScaler\n",
        "from sklearn.model_selection import train_test_split\n",
        "from sklearn.naive_bayes import GaussianNB\n",
        "\n"
      ]
    },
    {
      "cell_type": "code",
      "source": [
        "categorical_cols = ['sex','exang','cp','fbs','restecg','slope','thal', \"ca\", \"oldpeak\"]\n",
        "numerical_cols = [\"id\", \"age\",\"trestbps\",\"chol\",\"thalch\"]"
      ],
      "metadata": {
        "id": "6fbIDthwKw7D"
      },
      "execution_count": null,
      "outputs": []
    },
    {
      "cell_type": "code",
      "execution_count": null,
      "metadata": {
        "id": "UuYR1CNafzK4"
      },
      "outputs": [],
      "source": [
        "models = {\n",
        "  'Logistic Regression': {\n",
        "    'ID': 'LogisticRegression',\n",
        "    'model': LogisticRegression(),\n",
        "    'params': {\n",
        "        'model__C': [1, 10],\n",
        "        'model__penalty': ['l2'],\n",
        "        'model__max_iter': [1000],\n",
        "    },\n",
        "},\n",
        "\n",
        "'Support Vector Machine': {\n",
        "    'ID': 'SVC',\n",
        "    'model': SVC(),\n",
        "    'params': {\n",
        "        'model__C': [1, 10],\n",
        "        'model__kernel': ['rbf'],\n",
        "    },\n",
        "},\n",
        "   'AdaBoost Classifier': {\n",
        "        'ID': 'AdaBoostClassifier',\n",
        "        'model': AdaBoostClassifier(),\n",
        "        'params': {\n",
        "            'model__n_estimators': [10, 100]\n",
        "        }\n",
        "    },\n",
        "  'XGBoost Classifier': {\n",
        "    'ID': 'XGBClassifier',\n",
        "    'model': XGBClassifier(),\n",
        "    'params': {\n",
        "        'model__max_depth': [3, 4],\n",
        "        'model__learning_rate': [0.1, 0.2],\n",
        "        'model__n_estimators': [50, 100],\n",
        "        'model__gamma': [0, 0.1],\n",
        "        'model__subsample': [0.8, 1.0],\n",
        "        'model__colsample_bytree': [0.8, 1.0],\n",
        "        'model__reg_alpha': [0],\n",
        "        'model__reg_lambda': [1],\n",
        "    },\n",
        "  },\n",
        "  'Decision Tree Classifier': {\n",
        "    'ID': 'DecisionTreeClassifier',\n",
        "    'model': DecisionTreeClassifier(),\n",
        "    'params': {\n",
        "        'model__criterion': ['gini', 'entropy'],\n",
        "        'model__max_depth': [None, 3, 5, 10],\n",
        "        'model__max_features': [None, 'sqrt', 'log2']\n",
        "    },\n",
        "},\n",
        "'Random Forest Classifier': {\n",
        "    'ID': 'RandomForestClassifier',\n",
        "    'model': RandomForestClassifier(),\n",
        "    'params': {\n",
        "        'model__n_estimators': [10, 50],\n",
        "        'model__max_depth': [None, 3, 5],\n",
        "        'model__min_samples_split': [2, 4],\n",
        "        'model__min_samples_leaf': [1, 2],\n",
        "    },\n",
        "},\n",
        "  'K-Nearest Neighbors': {\n",
        "    'ID': 'KNeighborsClassifier',\n",
        "    'model': KNeighborsClassifier(),\n",
        "    'params': {\n",
        "        'model__n_neighbors': [3, 5],\n",
        "        'model__weights': ['uniform', 'distance'],\n",
        "        'model__algorithm': ['auto', 'ball_tree', 'kd_tree', 'brute']\n",
        "    },\n",
        "},\n",
        "'Gradient Boosting Classifier': {\n",
        "    'ID': 'GradientBoostingClassifier',\n",
        "    'model': GradientBoostingClassifier(),\n",
        "    'params': {\n",
        "        'model__n_estimators': [50, 100],\n",
        "        'model__learning_rate': [0.1, 0.2],\n",
        "        'model__max_depth': [3, 4],\n",
        "        # 'model__min_samples_split': [2, 4],\n",
        "        # 'model__min_samples_leaf': [1, 2],\n",
        "        # 'model__subsample': [0.8, 1.0],\n",
        "        'model__max_features': ['sqrt', 'log2', None]\n",
        "    },\n",
        "},\n",
        "   'CatBoost Classifier': {\n",
        "        'ID': 'CatBoostClassifier',\n",
        "        'model': CatBoostClassifier(verbose=0),\n",
        "        'params': {\n",
        "            'model__iterations': [10, 100],\n",
        "            'model__depth': [1, 2, 3, 4]\n",
        "        }\n",
        "    },\n",
        "    'LGBM Classifier': {\n",
        "        'ID': 'LGBMClassifier',\n",
        "        'model': LGBMClassifier(),\n",
        "        'params': {\n",
        "            'model__n_estimators': [10, 100],\n",
        "            'model__max_depth': [None, 1, 2, 3],\n",
        "            'model__learning_rate': [0.1, 0.2, 0.3],\n",
        "            'model__verbose': [-1]\n",
        "        }\n",
        "    },\n",
        "    'GaussianNB': {\n",
        "        'ID': 'GaussianNB',\n",
        "        'model': GaussianNB(),\n",
        "        'params': {}\n",
        "    },\n",
        "\n",
        "}"
      ]
    },
    {
      "cell_type": "code",
      "execution_count": null,
      "metadata": {
        "id": "eeA47UaVmlTy"
      },
      "outputs": [],
      "source": [
        "def calculate_error_ratio(df, target_column, feature_column, test_size=0.2, random_state=42, stratify=None ):\n",
        "\n",
        "    # Define features and target\n",
        "    X = df.drop([target_column], axis=1)  # Features\n",
        "    y = df[target_column]  # Target\n",
        "\n",
        "    # Split the data into training and test sets\n",
        "    X_train, X_test, y_train, y_test = train_test_split(X, y, stratify=stratify, test_size=test_size, random_state=random_state)\n",
        "\n",
        "    # Calculate the percentage representation of feature_column in training and test sets\n",
        "    train_percentages = X_train[feature_column].value_counts(normalize=True)*100\n",
        "    test_percentages = X_test[feature_column].value_counts(normalize=True)*100\n",
        "\n",
        "    # Calculate the error ratio\n",
        "    error_ratio = abs(train_percentages - test_percentages)\n",
        "\n",
        "    # Create a dataframe to compare the percentages\n",
        "    compare_percentages = pd.DataFrame({\n",
        "            \"random_train %\": train_percentages,\n",
        "            \"random_test %\": test_percentages,\n",
        "            \"error_ratio %\": error_ratio\n",
        "            })\n",
        "\n",
        "    # Print the representation of feature_column value in training and test sets before stratified sampling\n",
        "    if stratify is None:\n",
        "        print_heading(f'Representation of {feature_column} value in x_train and x_test before stratified Sampling'.upper())\n",
        "    else:\n",
        "        print_heading(f'Representation of {feature_column} value in x_train and x_test after stratified Sampling'.upper())\n",
        "    compare_error_df = round(compare_percentages,2)\n",
        "    return  X_train, X_test, y_train, y_test, compare_error_df"
      ]
    },
    {
      "cell_type": "code",
      "execution_count": null,
      "metadata": {
        "id": "W_WUj99zlhJy",
        "colab": {
          "base_uri": "https://localhost:8080/",
          "height": 295
        },
        "outputId": "607e79df-717e-4cf1-fec3-d53926d34e4e"
      },
      "outputs": [
        {
          "output_type": "stream",
          "name": "stdout",
          "text": [
            "\n",
            "==================================================\n",
            "REPRESENTATION OF CA VALUE IN X_TRAIN AND X_TEST BEFORE STRATIFIED SAMPLING\n",
            "==================================================\n",
            "\n"
          ]
        },
        {
          "output_type": "execute_result",
          "data": {
            "text/plain": [
              "     random_train %  random_test %  error_ratio %\n",
              "ca                                               \n",
              "0.0           76.09          77.17           1.09\n",
              "1.0           13.72          13.04           0.68\n",
              "2.0            7.47           8.70           1.22\n",
              "3.0            2.72           1.09           1.63"
            ],
            "text/html": [
              "\n",
              "  <div id=\"df-82a2b601-cea9-46e8-9ea1-0937b9615982\" class=\"colab-df-container\">\n",
              "    <div>\n",
              "<style scoped>\n",
              "    .dataframe tbody tr th:only-of-type {\n",
              "        vertical-align: middle;\n",
              "    }\n",
              "\n",
              "    .dataframe tbody tr th {\n",
              "        vertical-align: top;\n",
              "    }\n",
              "\n",
              "    .dataframe thead th {\n",
              "        text-align: right;\n",
              "    }\n",
              "</style>\n",
              "<table border=\"1\" class=\"dataframe\">\n",
              "  <thead>\n",
              "    <tr style=\"text-align: right;\">\n",
              "      <th></th>\n",
              "      <th>random_train %</th>\n",
              "      <th>random_test %</th>\n",
              "      <th>error_ratio %</th>\n",
              "    </tr>\n",
              "    <tr>\n",
              "      <th>ca</th>\n",
              "      <th></th>\n",
              "      <th></th>\n",
              "      <th></th>\n",
              "    </tr>\n",
              "  </thead>\n",
              "  <tbody>\n",
              "    <tr>\n",
              "      <th>0.0</th>\n",
              "      <td>76.09</td>\n",
              "      <td>77.17</td>\n",
              "      <td>1.09</td>\n",
              "    </tr>\n",
              "    <tr>\n",
              "      <th>1.0</th>\n",
              "      <td>13.72</td>\n",
              "      <td>13.04</td>\n",
              "      <td>0.68</td>\n",
              "    </tr>\n",
              "    <tr>\n",
              "      <th>2.0</th>\n",
              "      <td>7.47</td>\n",
              "      <td>8.70</td>\n",
              "      <td>1.22</td>\n",
              "    </tr>\n",
              "    <tr>\n",
              "      <th>3.0</th>\n",
              "      <td>2.72</td>\n",
              "      <td>1.09</td>\n",
              "      <td>1.63</td>\n",
              "    </tr>\n",
              "  </tbody>\n",
              "</table>\n",
              "</div>\n",
              "    <div class=\"colab-df-buttons\">\n",
              "\n",
              "  <div class=\"colab-df-container\">\n",
              "    <button class=\"colab-df-convert\" onclick=\"convertToInteractive('df-82a2b601-cea9-46e8-9ea1-0937b9615982')\"\n",
              "            title=\"Convert this dataframe to an interactive table.\"\n",
              "            style=\"display:none;\">\n",
              "\n",
              "  <svg xmlns=\"http://www.w3.org/2000/svg\" height=\"24px\" viewBox=\"0 -960 960 960\">\n",
              "    <path d=\"M120-120v-720h720v720H120Zm60-500h600v-160H180v160Zm220 220h160v-160H400v160Zm0 220h160v-160H400v160ZM180-400h160v-160H180v160Zm440 0h160v-160H620v160ZM180-180h160v-160H180v160Zm440 0h160v-160H620v160Z\"/>\n",
              "  </svg>\n",
              "    </button>\n",
              "\n",
              "  <style>\n",
              "    .colab-df-container {\n",
              "      display:flex;\n",
              "      gap: 12px;\n",
              "    }\n",
              "\n",
              "    .colab-df-convert {\n",
              "      background-color: #E8F0FE;\n",
              "      border: none;\n",
              "      border-radius: 50%;\n",
              "      cursor: pointer;\n",
              "      display: none;\n",
              "      fill: #1967D2;\n",
              "      height: 32px;\n",
              "      padding: 0 0 0 0;\n",
              "      width: 32px;\n",
              "    }\n",
              "\n",
              "    .colab-df-convert:hover {\n",
              "      background-color: #E2EBFA;\n",
              "      box-shadow: 0px 1px 2px rgba(60, 64, 67, 0.3), 0px 1px 3px 1px rgba(60, 64, 67, 0.15);\n",
              "      fill: #174EA6;\n",
              "    }\n",
              "\n",
              "    .colab-df-buttons div {\n",
              "      margin-bottom: 4px;\n",
              "    }\n",
              "\n",
              "    [theme=dark] .colab-df-convert {\n",
              "      background-color: #3B4455;\n",
              "      fill: #D2E3FC;\n",
              "    }\n",
              "\n",
              "    [theme=dark] .colab-df-convert:hover {\n",
              "      background-color: #434B5C;\n",
              "      box-shadow: 0px 1px 3px 1px rgba(0, 0, 0, 0.15);\n",
              "      filter: drop-shadow(0px 1px 2px rgba(0, 0, 0, 0.3));\n",
              "      fill: #FFFFFF;\n",
              "    }\n",
              "  </style>\n",
              "\n",
              "    <script>\n",
              "      const buttonEl =\n",
              "        document.querySelector('#df-82a2b601-cea9-46e8-9ea1-0937b9615982 button.colab-df-convert');\n",
              "      buttonEl.style.display =\n",
              "        google.colab.kernel.accessAllowed ? 'block' : 'none';\n",
              "\n",
              "      async function convertToInteractive(key) {\n",
              "        const element = document.querySelector('#df-82a2b601-cea9-46e8-9ea1-0937b9615982');\n",
              "        const dataTable =\n",
              "          await google.colab.kernel.invokeFunction('convertToInteractive',\n",
              "                                                    [key], {});\n",
              "        if (!dataTable) return;\n",
              "\n",
              "        const docLinkHtml = 'Like what you see? Visit the ' +\n",
              "          '<a target=\"_blank\" href=https://colab.research.google.com/notebooks/data_table.ipynb>data table notebook</a>'\n",
              "          + ' to learn more about interactive tables.';\n",
              "        element.innerHTML = '';\n",
              "        dataTable['output_type'] = 'display_data';\n",
              "        await google.colab.output.renderOutput(dataTable, element);\n",
              "        const docLink = document.createElement('div');\n",
              "        docLink.innerHTML = docLinkHtml;\n",
              "        element.appendChild(docLink);\n",
              "      }\n",
              "    </script>\n",
              "  </div>\n",
              "\n",
              "\n",
              "<div id=\"df-5af990e5-0e00-411b-a2f2-e245122ad8eb\">\n",
              "  <button class=\"colab-df-quickchart\" onclick=\"quickchart('df-5af990e5-0e00-411b-a2f2-e245122ad8eb')\"\n",
              "            title=\"Suggest charts\"\n",
              "            style=\"display:none;\">\n",
              "\n",
              "<svg xmlns=\"http://www.w3.org/2000/svg\" height=\"24px\"viewBox=\"0 0 24 24\"\n",
              "     width=\"24px\">\n",
              "    <g>\n",
              "        <path d=\"M19 3H5c-1.1 0-2 .9-2 2v14c0 1.1.9 2 2 2h14c1.1 0 2-.9 2-2V5c0-1.1-.9-2-2-2zM9 17H7v-7h2v7zm4 0h-2V7h2v10zm4 0h-2v-4h2v4z\"/>\n",
              "    </g>\n",
              "</svg>\n",
              "  </button>\n",
              "\n",
              "<style>\n",
              "  .colab-df-quickchart {\n",
              "      --bg-color: #E8F0FE;\n",
              "      --fill-color: #1967D2;\n",
              "      --hover-bg-color: #E2EBFA;\n",
              "      --hover-fill-color: #174EA6;\n",
              "      --disabled-fill-color: #AAA;\n",
              "      --disabled-bg-color: #DDD;\n",
              "  }\n",
              "\n",
              "  [theme=dark] .colab-df-quickchart {\n",
              "      --bg-color: #3B4455;\n",
              "      --fill-color: #D2E3FC;\n",
              "      --hover-bg-color: #434B5C;\n",
              "      --hover-fill-color: #FFFFFF;\n",
              "      --disabled-bg-color: #3B4455;\n",
              "      --disabled-fill-color: #666;\n",
              "  }\n",
              "\n",
              "  .colab-df-quickchart {\n",
              "    background-color: var(--bg-color);\n",
              "    border: none;\n",
              "    border-radius: 50%;\n",
              "    cursor: pointer;\n",
              "    display: none;\n",
              "    fill: var(--fill-color);\n",
              "    height: 32px;\n",
              "    padding: 0;\n",
              "    width: 32px;\n",
              "  }\n",
              "\n",
              "  .colab-df-quickchart:hover {\n",
              "    background-color: var(--hover-bg-color);\n",
              "    box-shadow: 0 1px 2px rgba(60, 64, 67, 0.3), 0 1px 3px 1px rgba(60, 64, 67, 0.15);\n",
              "    fill: var(--button-hover-fill-color);\n",
              "  }\n",
              "\n",
              "  .colab-df-quickchart-complete:disabled,\n",
              "  .colab-df-quickchart-complete:disabled:hover {\n",
              "    background-color: var(--disabled-bg-color);\n",
              "    fill: var(--disabled-fill-color);\n",
              "    box-shadow: none;\n",
              "  }\n",
              "\n",
              "  .colab-df-spinner {\n",
              "    border: 2px solid var(--fill-color);\n",
              "    border-color: transparent;\n",
              "    border-bottom-color: var(--fill-color);\n",
              "    animation:\n",
              "      spin 1s steps(1) infinite;\n",
              "  }\n",
              "\n",
              "  @keyframes spin {\n",
              "    0% {\n",
              "      border-color: transparent;\n",
              "      border-bottom-color: var(--fill-color);\n",
              "      border-left-color: var(--fill-color);\n",
              "    }\n",
              "    20% {\n",
              "      border-color: transparent;\n",
              "      border-left-color: var(--fill-color);\n",
              "      border-top-color: var(--fill-color);\n",
              "    }\n",
              "    30% {\n",
              "      border-color: transparent;\n",
              "      border-left-color: var(--fill-color);\n",
              "      border-top-color: var(--fill-color);\n",
              "      border-right-color: var(--fill-color);\n",
              "    }\n",
              "    40% {\n",
              "      border-color: transparent;\n",
              "      border-right-color: var(--fill-color);\n",
              "      border-top-color: var(--fill-color);\n",
              "    }\n",
              "    60% {\n",
              "      border-color: transparent;\n",
              "      border-right-color: var(--fill-color);\n",
              "    }\n",
              "    80% {\n",
              "      border-color: transparent;\n",
              "      border-right-color: var(--fill-color);\n",
              "      border-bottom-color: var(--fill-color);\n",
              "    }\n",
              "    90% {\n",
              "      border-color: transparent;\n",
              "      border-bottom-color: var(--fill-color);\n",
              "    }\n",
              "  }\n",
              "</style>\n",
              "\n",
              "  <script>\n",
              "    async function quickchart(key) {\n",
              "      const quickchartButtonEl =\n",
              "        document.querySelector('#' + key + ' button');\n",
              "      quickchartButtonEl.disabled = true;  // To prevent multiple clicks.\n",
              "      quickchartButtonEl.classList.add('colab-df-spinner');\n",
              "      try {\n",
              "        const charts = await google.colab.kernel.invokeFunction(\n",
              "            'suggestCharts', [key], {});\n",
              "      } catch (error) {\n",
              "        console.error('Error during call to suggestCharts:', error);\n",
              "      }\n",
              "      quickchartButtonEl.classList.remove('colab-df-spinner');\n",
              "      quickchartButtonEl.classList.add('colab-df-quickchart-complete');\n",
              "    }\n",
              "    (() => {\n",
              "      let quickchartButtonEl =\n",
              "        document.querySelector('#df-5af990e5-0e00-411b-a2f2-e245122ad8eb button');\n",
              "      quickchartButtonEl.style.display =\n",
              "        google.colab.kernel.accessAllowed ? 'block' : 'none';\n",
              "    })();\n",
              "  </script>\n",
              "</div>\n",
              "\n",
              "  <div id=\"id_35517dac-d027-4e1b-ac5b-5d812133c3c4\">\n",
              "    <style>\n",
              "      .colab-df-generate {\n",
              "        background-color: #E8F0FE;\n",
              "        border: none;\n",
              "        border-radius: 50%;\n",
              "        cursor: pointer;\n",
              "        display: none;\n",
              "        fill: #1967D2;\n",
              "        height: 32px;\n",
              "        padding: 0 0 0 0;\n",
              "        width: 32px;\n",
              "      }\n",
              "\n",
              "      .colab-df-generate:hover {\n",
              "        background-color: #E2EBFA;\n",
              "        box-shadow: 0px 1px 2px rgba(60, 64, 67, 0.3), 0px 1px 3px 1px rgba(60, 64, 67, 0.15);\n",
              "        fill: #174EA6;\n",
              "      }\n",
              "\n",
              "      [theme=dark] .colab-df-generate {\n",
              "        background-color: #3B4455;\n",
              "        fill: #D2E3FC;\n",
              "      }\n",
              "\n",
              "      [theme=dark] .colab-df-generate:hover {\n",
              "        background-color: #434B5C;\n",
              "        box-shadow: 0px 1px 3px 1px rgba(0, 0, 0, 0.15);\n",
              "        filter: drop-shadow(0px 1px 2px rgba(0, 0, 0, 0.3));\n",
              "        fill: #FFFFFF;\n",
              "      }\n",
              "    </style>\n",
              "    <button class=\"colab-df-generate\" onclick=\"generateWithVariable('compare_error_df')\"\n",
              "            title=\"Generate code using this dataframe.\"\n",
              "            style=\"display:none;\">\n",
              "\n",
              "  <svg xmlns=\"http://www.w3.org/2000/svg\" height=\"24px\"viewBox=\"0 0 24 24\"\n",
              "       width=\"24px\">\n",
              "    <path d=\"M7,19H8.4L18.45,9,17,7.55,7,17.6ZM5,21V16.75L18.45,3.32a2,2,0,0,1,2.83,0l1.4,1.43a1.91,1.91,0,0,1,.58,1.4,1.91,1.91,0,0,1-.58,1.4L9.25,21ZM18.45,9,17,7.55Zm-12,3A5.31,5.31,0,0,0,4.9,8.1,5.31,5.31,0,0,0,1,6.5,5.31,5.31,0,0,0,4.9,4.9,5.31,5.31,0,0,0,6.5,1,5.31,5.31,0,0,0,8.1,4.9,5.31,5.31,0,0,0,12,6.5,5.46,5.46,0,0,0,6.5,12Z\"/>\n",
              "  </svg>\n",
              "    </button>\n",
              "    <script>\n",
              "      (() => {\n",
              "      const buttonEl =\n",
              "        document.querySelector('#id_35517dac-d027-4e1b-ac5b-5d812133c3c4 button.colab-df-generate');\n",
              "      buttonEl.style.display =\n",
              "        google.colab.kernel.accessAllowed ? 'block' : 'none';\n",
              "\n",
              "      buttonEl.onclick = () => {\n",
              "        google.colab.notebook.generateWithVariable('compare_error_df');\n",
              "      }\n",
              "      })();\n",
              "    </script>\n",
              "  </div>\n",
              "\n",
              "    </div>\n",
              "  </div>\n"
            ],
            "application/vnd.google.colaboratory.intrinsic+json": {
              "type": "dataframe",
              "variable_name": "compare_error_df",
              "summary": "{\n  \"name\": \"compare_error_df\",\n  \"rows\": 4,\n  \"fields\": [\n    {\n      \"column\": \"ca\",\n      \"properties\": {\n        \"dtype\": \"number\",\n        \"std\": 1.2909944487358056,\n        \"min\": 0.0,\n        \"max\": 3.0,\n        \"num_unique_values\": 4,\n        \"samples\": [\n          1.0,\n          3.0,\n          0.0\n        ],\n        \"semantic_type\": \"\",\n        \"description\": \"\"\n      }\n    },\n    {\n      \"column\": \"random_train %\",\n      \"properties\": {\n        \"dtype\": \"number\",\n        \"std\": 34.35658985793943,\n        \"min\": 2.72,\n        \"max\": 76.09,\n        \"num_unique_values\": 4,\n        \"samples\": [\n          13.72,\n          2.72,\n          76.09\n        ],\n        \"semantic_type\": \"\",\n        \"description\": \"\"\n      }\n    },\n    {\n      \"column\": \"random_test %\",\n      \"properties\": {\n        \"dtype\": \"number\",\n        \"std\": 35.12894627891174,\n        \"min\": 1.09,\n        \"max\": 77.17,\n        \"num_unique_values\": 4,\n        \"samples\": [\n          13.04,\n          1.09,\n          77.17\n        ],\n        \"semantic_type\": \"\",\n        \"description\": \"\"\n      }\n    },\n    {\n      \"column\": \"error_ratio %\",\n      \"properties\": {\n        \"dtype\": \"number\",\n        \"std\": 0.39145029484384514,\n        \"min\": 0.68,\n        \"max\": 1.63,\n        \"num_unique_values\": 4,\n        \"samples\": [\n          0.68,\n          1.63,\n          1.09\n        ],\n        \"semantic_type\": \"\",\n        \"description\": \"\"\n      }\n    }\n  ]\n}"
            }
          },
          "metadata": {},
          "execution_count": 35
        }
      ],
      "source": [
        "X_train, X_test, y_train, y_test, compare_error_df = calculate_error_ratio(df, 'num', 'ca')\n",
        "compare_error_df"
      ]
    },
    {
      "cell_type": "code",
      "execution_count": null,
      "metadata": {
        "id": "nd9a0oTWluxM",
        "colab": {
          "base_uri": "https://localhost:8080/",
          "height": 295
        },
        "outputId": "723c16d3-037e-4eaf-e867-11d02540fa04"
      },
      "outputs": [
        {
          "output_type": "stream",
          "name": "stdout",
          "text": [
            "\n",
            "==================================================\n",
            "REPRESENTATION OF CA VALUE IN X_TRAIN AND X_TEST AFTER STRATIFIED SAMPLING\n",
            "==================================================\n",
            "\n"
          ]
        },
        {
          "output_type": "execute_result",
          "data": {
            "text/plain": [
              "     random_train %  random_test %  error_ratio %\n",
              "ca                                               \n",
              "0.0           76.36          76.09           0.27\n",
              "1.0           13.59          13.59           0.00\n",
              "2.0            7.74           7.61           0.14\n",
              "3.0            2.31           2.72           0.41"
            ],
            "text/html": [
              "\n",
              "  <div id=\"df-778798f4-1289-44fd-8e0d-5a15b669af9a\" class=\"colab-df-container\">\n",
              "    <div>\n",
              "<style scoped>\n",
              "    .dataframe tbody tr th:only-of-type {\n",
              "        vertical-align: middle;\n",
              "    }\n",
              "\n",
              "    .dataframe tbody tr th {\n",
              "        vertical-align: top;\n",
              "    }\n",
              "\n",
              "    .dataframe thead th {\n",
              "        text-align: right;\n",
              "    }\n",
              "</style>\n",
              "<table border=\"1\" class=\"dataframe\">\n",
              "  <thead>\n",
              "    <tr style=\"text-align: right;\">\n",
              "      <th></th>\n",
              "      <th>random_train %</th>\n",
              "      <th>random_test %</th>\n",
              "      <th>error_ratio %</th>\n",
              "    </tr>\n",
              "    <tr>\n",
              "      <th>ca</th>\n",
              "      <th></th>\n",
              "      <th></th>\n",
              "      <th></th>\n",
              "    </tr>\n",
              "  </thead>\n",
              "  <tbody>\n",
              "    <tr>\n",
              "      <th>0.0</th>\n",
              "      <td>76.36</td>\n",
              "      <td>76.09</td>\n",
              "      <td>0.27</td>\n",
              "    </tr>\n",
              "    <tr>\n",
              "      <th>1.0</th>\n",
              "      <td>13.59</td>\n",
              "      <td>13.59</td>\n",
              "      <td>0.00</td>\n",
              "    </tr>\n",
              "    <tr>\n",
              "      <th>2.0</th>\n",
              "      <td>7.74</td>\n",
              "      <td>7.61</td>\n",
              "      <td>0.14</td>\n",
              "    </tr>\n",
              "    <tr>\n",
              "      <th>3.0</th>\n",
              "      <td>2.31</td>\n",
              "      <td>2.72</td>\n",
              "      <td>0.41</td>\n",
              "    </tr>\n",
              "  </tbody>\n",
              "</table>\n",
              "</div>\n",
              "    <div class=\"colab-df-buttons\">\n",
              "\n",
              "  <div class=\"colab-df-container\">\n",
              "    <button class=\"colab-df-convert\" onclick=\"convertToInteractive('df-778798f4-1289-44fd-8e0d-5a15b669af9a')\"\n",
              "            title=\"Convert this dataframe to an interactive table.\"\n",
              "            style=\"display:none;\">\n",
              "\n",
              "  <svg xmlns=\"http://www.w3.org/2000/svg\" height=\"24px\" viewBox=\"0 -960 960 960\">\n",
              "    <path d=\"M120-120v-720h720v720H120Zm60-500h600v-160H180v160Zm220 220h160v-160H400v160Zm0 220h160v-160H400v160ZM180-400h160v-160H180v160Zm440 0h160v-160H620v160ZM180-180h160v-160H180v160Zm440 0h160v-160H620v160Z\"/>\n",
              "  </svg>\n",
              "    </button>\n",
              "\n",
              "  <style>\n",
              "    .colab-df-container {\n",
              "      display:flex;\n",
              "      gap: 12px;\n",
              "    }\n",
              "\n",
              "    .colab-df-convert {\n",
              "      background-color: #E8F0FE;\n",
              "      border: none;\n",
              "      border-radius: 50%;\n",
              "      cursor: pointer;\n",
              "      display: none;\n",
              "      fill: #1967D2;\n",
              "      height: 32px;\n",
              "      padding: 0 0 0 0;\n",
              "      width: 32px;\n",
              "    }\n",
              "\n",
              "    .colab-df-convert:hover {\n",
              "      background-color: #E2EBFA;\n",
              "      box-shadow: 0px 1px 2px rgba(60, 64, 67, 0.3), 0px 1px 3px 1px rgba(60, 64, 67, 0.15);\n",
              "      fill: #174EA6;\n",
              "    }\n",
              "\n",
              "    .colab-df-buttons div {\n",
              "      margin-bottom: 4px;\n",
              "    }\n",
              "\n",
              "    [theme=dark] .colab-df-convert {\n",
              "      background-color: #3B4455;\n",
              "      fill: #D2E3FC;\n",
              "    }\n",
              "\n",
              "    [theme=dark] .colab-df-convert:hover {\n",
              "      background-color: #434B5C;\n",
              "      box-shadow: 0px 1px 3px 1px rgba(0, 0, 0, 0.15);\n",
              "      filter: drop-shadow(0px 1px 2px rgba(0, 0, 0, 0.3));\n",
              "      fill: #FFFFFF;\n",
              "    }\n",
              "  </style>\n",
              "\n",
              "    <script>\n",
              "      const buttonEl =\n",
              "        document.querySelector('#df-778798f4-1289-44fd-8e0d-5a15b669af9a button.colab-df-convert');\n",
              "      buttonEl.style.display =\n",
              "        google.colab.kernel.accessAllowed ? 'block' : 'none';\n",
              "\n",
              "      async function convertToInteractive(key) {\n",
              "        const element = document.querySelector('#df-778798f4-1289-44fd-8e0d-5a15b669af9a');\n",
              "        const dataTable =\n",
              "          await google.colab.kernel.invokeFunction('convertToInteractive',\n",
              "                                                    [key], {});\n",
              "        if (!dataTable) return;\n",
              "\n",
              "        const docLinkHtml = 'Like what you see? Visit the ' +\n",
              "          '<a target=\"_blank\" href=https://colab.research.google.com/notebooks/data_table.ipynb>data table notebook</a>'\n",
              "          + ' to learn more about interactive tables.';\n",
              "        element.innerHTML = '';\n",
              "        dataTable['output_type'] = 'display_data';\n",
              "        await google.colab.output.renderOutput(dataTable, element);\n",
              "        const docLink = document.createElement('div');\n",
              "        docLink.innerHTML = docLinkHtml;\n",
              "        element.appendChild(docLink);\n",
              "      }\n",
              "    </script>\n",
              "  </div>\n",
              "\n",
              "\n",
              "<div id=\"df-5a2447cd-3734-4dcf-aee1-4ad2b8e60c61\">\n",
              "  <button class=\"colab-df-quickchart\" onclick=\"quickchart('df-5a2447cd-3734-4dcf-aee1-4ad2b8e60c61')\"\n",
              "            title=\"Suggest charts\"\n",
              "            style=\"display:none;\">\n",
              "\n",
              "<svg xmlns=\"http://www.w3.org/2000/svg\" height=\"24px\"viewBox=\"0 0 24 24\"\n",
              "     width=\"24px\">\n",
              "    <g>\n",
              "        <path d=\"M19 3H5c-1.1 0-2 .9-2 2v14c0 1.1.9 2 2 2h14c1.1 0 2-.9 2-2V5c0-1.1-.9-2-2-2zM9 17H7v-7h2v7zm4 0h-2V7h2v10zm4 0h-2v-4h2v4z\"/>\n",
              "    </g>\n",
              "</svg>\n",
              "  </button>\n",
              "\n",
              "<style>\n",
              "  .colab-df-quickchart {\n",
              "      --bg-color: #E8F0FE;\n",
              "      --fill-color: #1967D2;\n",
              "      --hover-bg-color: #E2EBFA;\n",
              "      --hover-fill-color: #174EA6;\n",
              "      --disabled-fill-color: #AAA;\n",
              "      --disabled-bg-color: #DDD;\n",
              "  }\n",
              "\n",
              "  [theme=dark] .colab-df-quickchart {\n",
              "      --bg-color: #3B4455;\n",
              "      --fill-color: #D2E3FC;\n",
              "      --hover-bg-color: #434B5C;\n",
              "      --hover-fill-color: #FFFFFF;\n",
              "      --disabled-bg-color: #3B4455;\n",
              "      --disabled-fill-color: #666;\n",
              "  }\n",
              "\n",
              "  .colab-df-quickchart {\n",
              "    background-color: var(--bg-color);\n",
              "    border: none;\n",
              "    border-radius: 50%;\n",
              "    cursor: pointer;\n",
              "    display: none;\n",
              "    fill: var(--fill-color);\n",
              "    height: 32px;\n",
              "    padding: 0;\n",
              "    width: 32px;\n",
              "  }\n",
              "\n",
              "  .colab-df-quickchart:hover {\n",
              "    background-color: var(--hover-bg-color);\n",
              "    box-shadow: 0 1px 2px rgba(60, 64, 67, 0.3), 0 1px 3px 1px rgba(60, 64, 67, 0.15);\n",
              "    fill: var(--button-hover-fill-color);\n",
              "  }\n",
              "\n",
              "  .colab-df-quickchart-complete:disabled,\n",
              "  .colab-df-quickchart-complete:disabled:hover {\n",
              "    background-color: var(--disabled-bg-color);\n",
              "    fill: var(--disabled-fill-color);\n",
              "    box-shadow: none;\n",
              "  }\n",
              "\n",
              "  .colab-df-spinner {\n",
              "    border: 2px solid var(--fill-color);\n",
              "    border-color: transparent;\n",
              "    border-bottom-color: var(--fill-color);\n",
              "    animation:\n",
              "      spin 1s steps(1) infinite;\n",
              "  }\n",
              "\n",
              "  @keyframes spin {\n",
              "    0% {\n",
              "      border-color: transparent;\n",
              "      border-bottom-color: var(--fill-color);\n",
              "      border-left-color: var(--fill-color);\n",
              "    }\n",
              "    20% {\n",
              "      border-color: transparent;\n",
              "      border-left-color: var(--fill-color);\n",
              "      border-top-color: var(--fill-color);\n",
              "    }\n",
              "    30% {\n",
              "      border-color: transparent;\n",
              "      border-left-color: var(--fill-color);\n",
              "      border-top-color: var(--fill-color);\n",
              "      border-right-color: var(--fill-color);\n",
              "    }\n",
              "    40% {\n",
              "      border-color: transparent;\n",
              "      border-right-color: var(--fill-color);\n",
              "      border-top-color: var(--fill-color);\n",
              "    }\n",
              "    60% {\n",
              "      border-color: transparent;\n",
              "      border-right-color: var(--fill-color);\n",
              "    }\n",
              "    80% {\n",
              "      border-color: transparent;\n",
              "      border-right-color: var(--fill-color);\n",
              "      border-bottom-color: var(--fill-color);\n",
              "    }\n",
              "    90% {\n",
              "      border-color: transparent;\n",
              "      border-bottom-color: var(--fill-color);\n",
              "    }\n",
              "  }\n",
              "</style>\n",
              "\n",
              "  <script>\n",
              "    async function quickchart(key) {\n",
              "      const quickchartButtonEl =\n",
              "        document.querySelector('#' + key + ' button');\n",
              "      quickchartButtonEl.disabled = true;  // To prevent multiple clicks.\n",
              "      quickchartButtonEl.classList.add('colab-df-spinner');\n",
              "      try {\n",
              "        const charts = await google.colab.kernel.invokeFunction(\n",
              "            'suggestCharts', [key], {});\n",
              "      } catch (error) {\n",
              "        console.error('Error during call to suggestCharts:', error);\n",
              "      }\n",
              "      quickchartButtonEl.classList.remove('colab-df-spinner');\n",
              "      quickchartButtonEl.classList.add('colab-df-quickchart-complete');\n",
              "    }\n",
              "    (() => {\n",
              "      let quickchartButtonEl =\n",
              "        document.querySelector('#df-5a2447cd-3734-4dcf-aee1-4ad2b8e60c61 button');\n",
              "      quickchartButtonEl.style.display =\n",
              "        google.colab.kernel.accessAllowed ? 'block' : 'none';\n",
              "    })();\n",
              "  </script>\n",
              "</div>\n",
              "\n",
              "  <div id=\"id_51ea0481-1fd1-4919-852a-c3e85a3a6e2f\">\n",
              "    <style>\n",
              "      .colab-df-generate {\n",
              "        background-color: #E8F0FE;\n",
              "        border: none;\n",
              "        border-radius: 50%;\n",
              "        cursor: pointer;\n",
              "        display: none;\n",
              "        fill: #1967D2;\n",
              "        height: 32px;\n",
              "        padding: 0 0 0 0;\n",
              "        width: 32px;\n",
              "      }\n",
              "\n",
              "      .colab-df-generate:hover {\n",
              "        background-color: #E2EBFA;\n",
              "        box-shadow: 0px 1px 2px rgba(60, 64, 67, 0.3), 0px 1px 3px 1px rgba(60, 64, 67, 0.15);\n",
              "        fill: #174EA6;\n",
              "      }\n",
              "\n",
              "      [theme=dark] .colab-df-generate {\n",
              "        background-color: #3B4455;\n",
              "        fill: #D2E3FC;\n",
              "      }\n",
              "\n",
              "      [theme=dark] .colab-df-generate:hover {\n",
              "        background-color: #434B5C;\n",
              "        box-shadow: 0px 1px 3px 1px rgba(0, 0, 0, 0.15);\n",
              "        filter: drop-shadow(0px 1px 2px rgba(0, 0, 0, 0.3));\n",
              "        fill: #FFFFFF;\n",
              "      }\n",
              "    </style>\n",
              "    <button class=\"colab-df-generate\" onclick=\"generateWithVariable('compare_error_df')\"\n",
              "            title=\"Generate code using this dataframe.\"\n",
              "            style=\"display:none;\">\n",
              "\n",
              "  <svg xmlns=\"http://www.w3.org/2000/svg\" height=\"24px\"viewBox=\"0 0 24 24\"\n",
              "       width=\"24px\">\n",
              "    <path d=\"M7,19H8.4L18.45,9,17,7.55,7,17.6ZM5,21V16.75L18.45,3.32a2,2,0,0,1,2.83,0l1.4,1.43a1.91,1.91,0,0,1,.58,1.4,1.91,1.91,0,0,1-.58,1.4L9.25,21ZM18.45,9,17,7.55Zm-12,3A5.31,5.31,0,0,0,4.9,8.1,5.31,5.31,0,0,0,1,6.5,5.31,5.31,0,0,0,4.9,4.9,5.31,5.31,0,0,0,6.5,1,5.31,5.31,0,0,0,8.1,4.9,5.31,5.31,0,0,0,12,6.5,5.46,5.46,0,0,0,6.5,12Z\"/>\n",
              "  </svg>\n",
              "    </button>\n",
              "    <script>\n",
              "      (() => {\n",
              "      const buttonEl =\n",
              "        document.querySelector('#id_51ea0481-1fd1-4919-852a-c3e85a3a6e2f button.colab-df-generate');\n",
              "      buttonEl.style.display =\n",
              "        google.colab.kernel.accessAllowed ? 'block' : 'none';\n",
              "\n",
              "      buttonEl.onclick = () => {\n",
              "        google.colab.notebook.generateWithVariable('compare_error_df');\n",
              "      }\n",
              "      })();\n",
              "    </script>\n",
              "  </div>\n",
              "\n",
              "    </div>\n",
              "  </div>\n"
            ],
            "application/vnd.google.colaboratory.intrinsic+json": {
              "type": "dataframe",
              "variable_name": "compare_error_df",
              "summary": "{\n  \"name\": \"compare_error_df\",\n  \"rows\": 4,\n  \"fields\": [\n    {\n      \"column\": \"ca\",\n      \"properties\": {\n        \"dtype\": \"number\",\n        \"std\": 1.2909944487358056,\n        \"min\": 0.0,\n        \"max\": 3.0,\n        \"num_unique_values\": 4,\n        \"samples\": [\n          1.0,\n          3.0,\n          0.0\n        ],\n        \"semantic_type\": \"\",\n        \"description\": \"\"\n      }\n    },\n    {\n      \"column\": \"random_train %\",\n      \"properties\": {\n        \"dtype\": \"number\",\n        \"std\": 34.54842688169752,\n        \"min\": 2.31,\n        \"max\": 76.36,\n        \"num_unique_values\": 4,\n        \"samples\": [\n          13.59,\n          2.31,\n          76.36\n        ],\n        \"semantic_type\": \"\",\n        \"description\": \"\"\n      }\n    },\n    {\n      \"column\": \"random_test %\",\n      \"properties\": {\n        \"dtype\": \"number\",\n        \"std\": 34.3471817135943,\n        \"min\": 2.72,\n        \"max\": 76.09,\n        \"num_unique_values\": 4,\n        \"samples\": [\n          13.59,\n          2.72,\n          76.09\n        ],\n        \"semantic_type\": \"\",\n        \"description\": \"\"\n      }\n    },\n    {\n      \"column\": \"error_ratio %\",\n      \"properties\": {\n        \"dtype\": \"number\",\n        \"std\": 0.1755942292142123,\n        \"min\": 0.0,\n        \"max\": 0.41,\n        \"num_unique_values\": 4,\n        \"samples\": [\n          0.0,\n          0.41,\n          0.27\n        ],\n        \"semantic_type\": \"\",\n        \"description\": \"\"\n      }\n    }\n  ]\n}"
            }
          },
          "metadata": {},
          "execution_count": 36
        }
      ],
      "source": [
        "X_train, X_test, y_train, y_test, compare_error_df = calculate_error_ratio(df, 'num', 'ca', stratify=df['ca'])\n",
        "compare_error_df"
      ]
    },
    {
      "cell_type": "code",
      "execution_count": null,
      "metadata": {
        "id": "6EdlJCBzp3GH"
      },
      "outputs": [],
      "source": [
        "import numpy as np\n",
        "import pandas as pd\n",
        "import matplotlib.pyplot as plt\n",
        "import seaborn as sns\n",
        "from sklearn.model_selection import train_test_split, GridSearchCV\n",
        "from sklearn.preprocessing import OneHotEncoder, QuantileTransformer\n",
        "from sklearn.compose import ColumnTransformer\n",
        "from sklearn.pipeline import Pipeline\n",
        "from sklearn.metrics import accuracy_score, precision_score, recall_score, f1_score\n",
        "from sklearn.linear_model import LogisticRegression\n",
        "from sklearn.svm import SVC\n",
        "from sklearn.ensemble import RandomForestClassifier, AdaBoostClassifier, GradientBoostingClassifier\n",
        "from sklearn.tree import DecisionTreeClassifier\n",
        "from sklearn.neighbors import KNeighborsClassifier\n",
        "from sklearn.feature_selection import SelectKBest, mutual_info_classif\n",
        "from xgboost import XGBClassifier\n",
        "from catboost import CatBoostClassifier\n",
        "from lightgbm import LGBMClassifier\n",
        "from sklearn.naive_bayes import GaussianNB\n"
      ]
    },
    {
      "cell_type": "code",
      "execution_count": null,
      "metadata": {
        "id": "90_pfcoIK2Ly",
        "colab": {
          "base_uri": "https://localhost:8080/"
        },
        "outputId": "7cb5e3d6-cf30-4a55-ee23-9faa884b663e"
      },
      "outputs": [
        {
          "output_type": "stream",
          "name": "stdout",
          "text": [
            "CPU times: user 65 µs, sys: 13 µs, total: 78 µs\n",
            "Wall time: 83.7 µs\n"
          ]
        }
      ],
      "source": [
        "%%time\n",
        "from sklearn.feature_selection import SelectKBest, f_classif, chi2, mutual_info_classif\n",
        "from sklearn.model_selection import train_test_split, cross_val_score\n",
        "\n",
        "# Define a pipeline for numerical features with a QuantileTransformer\n",
        "numerical_transformer  = Pipeline(steps=[\n",
        "  # Apply QuantileTransformer to transform numerical features to a normal distribution\n",
        "  #('quantile', QuantileTransformer(random_state=42, output_distribution='normal', n_quantiles=476)),\n",
        "])\n",
        "\n",
        "# Define a ColumnTransformer to apply different transformations to different columns\n",
        "preprocessor = ColumnTransformer(\n",
        "  transformers=[\n",
        "    # Apply numerical_transformer pipeline to numerical columns\n",
        "    ('num', numerical_transformer, numerical_cols),\n",
        "    # Apply OneHotEncoder to categorical columns\n",
        "    ('cat', OneHotEncoder(), categorical_cols)\n",
        "  ]\n",
        ")\n"
      ]
    },
    {
      "cell_type": "code",
      "execution_count": null,
      "metadata": {
        "id": "GY56f4gzK4kZ"
      },
      "outputs": [],
      "source": [
        "# Initialize a list to store model performance metrics\n",
        "model_scores = []\n",
        "# Initialize a variable to store the best accuracy found\n",
        "best_accuracy = 0\n",
        "# Initialize a variable to store the best estimator\n",
        "best_estimator = None\n",
        "# Dictionary to store cross-validation results\n",
        "cv_res = {}\n",
        "# Placeholder for numerical columns list\n",
        "numerical_cols\n",
        "# Placeholder for the best features selected by SelectKBest\n",
        "selected_k_best = None"
      ]
    },
    {
      "cell_type": "code",
      "execution_count": null,
      "metadata": {
        "id": "EMGkGxyKK-np"
      },
      "outputs": [],
      "source": [
        "# Iterate over the models dictionary to train and evaluate each model\n",
        "for name, model in models.items():\n",
        "  # Define feature selection step using mutual information criterion\n",
        "  feature_selection = SelectKBest(mutual_info_classif, k=10)\n",
        "  # Define the pipeline with preprocessing, feature selection, and the model\n",
        "  pipeline = Pipeline(steps=[\n",
        "    ('preprocessor', preprocessor),\n",
        "    ('feature_selection', feature_selection),\n",
        "    ('model', model['model'])\n",
        "  ])\n",
        "\n",
        "  # Combine model-specific parameters with feature selection parameters\n",
        "  full_params = model['params']\n",
        "  full_params.update({\n",
        "      # Define grid search options for 'k' in feature selection\n",
        "      'feature_selection__k': [3, 5, 8, 'all']\n",
        "    })"
      ]
    },
    {
      "cell_type": "code",
      "source": [
        "categorical_cols = ['sex','exang','cp','fbs','restecg','slope','thal', \"ca\", \"oldpeak\"]\n",
        "numerical_cols = [\"id\", \"age\",\"trestbps\",\"chol\",\"thalch\"]"
      ],
      "metadata": {
        "id": "tWWxwe1EKaUI"
      },
      "execution_count": null,
      "outputs": []
    },
    {
      "cell_type": "code",
      "source": [
        "# Convert 'ca' to string type to treat it as categorical\n",
        "X_train['ca'] = X_train['ca'].astype(str)\n",
        "\n",
        "# Select only numeric columns excluding 'ca'\n",
        "numerical_cols = X_train.select_dtypes(include=[np.number]).columns\n"
      ],
      "metadata": {
        "id": "rjlPrlk3OimN"
      },
      "execution_count": null,
      "outputs": []
    },
    {
      "cell_type": "code",
      "source": [
        "# Select only numeric columns\n",
        "numerical_cols = X_train.select_dtypes(include=[np.number]).columns\n",
        "\n",
        "# Check for infinite values in numeric columns only\n",
        "np.isfinite(X_train[numerical_cols]).all()"
      ],
      "metadata": {
        "colab": {
          "base_uri": "https://localhost:8080/"
        },
        "id": "HoKQ2c6HKMFN",
        "outputId": "17dac451-cba9-4df4-e6d0-d0e691884ccd"
      },
      "execution_count": null,
      "outputs": [
        {
          "output_type": "execute_result",
          "data": {
            "text/plain": [
              "id          True\n",
              "age         True\n",
              "trestbps    True\n",
              "chol        True\n",
              "thalch      True\n",
              "dtype: bool"
            ]
          },
          "metadata": {},
          "execution_count": 43
        }
      ]
    },
    {
      "cell_type": "code",
      "source": [
        "# Splitting data\n",
        "X = df.drop(['num', 'id', 'dataset'], axis=1)\n",
        "y = df['num']\n",
        "X_train, X_test, y_train, y_test = train_test_split(X, y, test_size=0.2, random_state=42, stratify=y)\n"
      ],
      "metadata": {
        "id": "VtUvxaZkOKb6"
      },
      "execution_count": null,
      "outputs": []
    },
    {
      "cell_type": "code",
      "source": [
        "import numpy as np\n",
        "from sklearn.pipeline import Pipeline\n",
        "from sklearn.preprocessing import StandardScaler, OneHotEncoder\n",
        "from sklearn.compose import ColumnTransformer\n",
        "from sklearn.linear_model import LogisticRegression\n",
        "from sklearn.tree import DecisionTreeClassifier\n",
        "from sklearn.ensemble import RandomForestClassifier, GradientBoostingClassifier\n",
        "from sklearn.svm import SVC\n",
        "from sklearn.neighbors import KNeighborsClassifier\n",
        "from sklearn.model_selection import cross_val_score, train_test_split\n",
        "from xgboost import XGBClassifier\n",
        "from sklearn.metrics import classification_report, confusion_matrix"
      ],
      "metadata": {
        "id": "Z4MBm7k3Otcm"
      },
      "execution_count": null,
      "outputs": []
    },
    {
      "cell_type": "code",
      "source": [
        "print(\"Numerical columns:\", numerical_cols)\n",
        "print(\"Categorical columns:\", categorical_cols)\n",
        "print(\"Columns in X_train:\", X_train.columns.tolist())"
      ],
      "metadata": {
        "colab": {
          "base_uri": "https://localhost:8080/"
        },
        "id": "13n2s94NOv9d",
        "outputId": "3e1e4837-2812-4c77-9efd-85c566f7a527"
      },
      "execution_count": null,
      "outputs": [
        {
          "output_type": "stream",
          "name": "stdout",
          "text": [
            "Numerical columns: Index(['id', 'age', 'trestbps', 'chol', 'thalch'], dtype='object')\n",
            "Categorical columns: ['sex', 'exang', 'cp', 'fbs', 'restecg', 'slope', 'thal', 'ca', 'oldpeak']\n",
            "Columns in X_train: ['age', 'sex', 'cp', 'trestbps', 'chol', 'fbs', 'restecg', 'thalch', 'exang', 'oldpeak', 'slope', 'ca', 'thal']\n"
          ]
        }
      ]
    },
    {
      "cell_type": "code",
      "source": [
        "print(X_train.dtypes)"
      ],
      "metadata": {
        "colab": {
          "base_uri": "https://localhost:8080/"
        },
        "id": "eyNNuiirO3uf",
        "outputId": "e28e7722-7e08-4bd6-81f8-f1016929ad1e"
      },
      "execution_count": null,
      "outputs": [
        {
          "output_type": "stream",
          "name": "stdout",
          "text": [
            "age            int64\n",
            "sex           object\n",
            "cp            object\n",
            "trestbps     float64\n",
            "chol           int64\n",
            "fbs             bool\n",
            "restecg       object\n",
            "thalch       float64\n",
            "exang           bool\n",
            "oldpeak     category\n",
            "slope         object\n",
            "ca           float64\n",
            "thal          object\n",
            "dtype: object\n"
          ]
        }
      ]
    },
    {
      "cell_type": "code",
      "source": [
        "# Convert 'ca' to a categorical type\n",
        "X_train['ca'] = X_train['ca'].astype('category')\n",
        "\n",
        "# Check data types again to confirm the change\n",
        "print(X_train.dtypes)\n"
      ],
      "metadata": {
        "colab": {
          "base_uri": "https://localhost:8080/"
        },
        "id": "GUePUc5NPHOk",
        "outputId": "737a43ba-6976-4e4a-b8fc-2f1243b6e09b"
      },
      "execution_count": null,
      "outputs": [
        {
          "output_type": "stream",
          "name": "stdout",
          "text": [
            "age            int64\n",
            "sex           object\n",
            "cp            object\n",
            "trestbps     float64\n",
            "chol           int64\n",
            "fbs             bool\n",
            "restecg       object\n",
            "thalch       float64\n",
            "exang           bool\n",
            "oldpeak     category\n",
            "slope         object\n",
            "ca          category\n",
            "thal          object\n",
            "dtype: object\n"
          ]
        }
      ]
    },
    {
      "cell_type": "code",
      "source": [
        "# Check if 'id' column exists in X\n",
        "if 'id' not in X.columns:\n",
        "    numerical_cols = numerical_cols[numerical_cols != 'id']"
      ],
      "metadata": {
        "id": "bl4C0vgvPk0l"
      },
      "execution_count": null,
      "outputs": []
    },
    {
      "cell_type": "code",
      "source": [
        "import numpy as np\n",
        "import pandas as pd\n",
        "from sklearn.model_selection import train_test_split, cross_val_score, GridSearchCV\n",
        "from sklearn.compose import ColumnTransformer\n",
        "from sklearn.preprocessing import StandardScaler, OneHotEncoder\n",
        "from sklearn.pipeline import Pipeline\n",
        "from sklearn.metrics import accuracy_score, classification_report, confusion_matrix\n",
        "from sklearn.linear_model import LogisticRegression\n",
        "from sklearn.ensemble import RandomForestClassifier, GradientBoostingClassifier\n",
        "from sklearn.tree import DecisionTreeClassifier\n",
        "from sklearn.svm import SVC\n",
        "from sklearn.neighbors import KNeighborsClassifier\n",
        "from xgboost import XGBClassifier\n",
        "\n",
        "# Assuming df is your DataFrame and 'num' is the target column\n",
        "X = df.drop(['num', 'id', 'dataset'],axis=1, errors='ignore')\n",
        "y = df['num']\n",
        "\n",
        "X_train, X_test, y_train, y_test = train_test_split(X, y, test_size=0.2, random_state=42, stratify=y)\n",
        "\n",
        "# Preprocessing pipelines for both numerical and categorical data\n",
        "numerical_transformer = Pipeline(steps=[('scaler', StandardScaler())])\n",
        "categorical_transformer = Pipeline(steps=[('onehot', OneHotEncoder(handle_unknown='ignore'))])\n",
        "\n",
        "preprocessor = ColumnTransformer(\n",
        "    transformers=[\n",
        "        ('num', numerical_transformer, numerical_cols),\n",
        "        ('cat', categorical_transformer, categorical_cols),\n",
        "    ])\n",
        "\n",
        "# Models to evaluate\n",
        "models = [\n",
        "    (\"Logistic Regression\", LogisticRegression(max_iter=1000, random_state=42)),\n",
        "    (\"Random Forest\", RandomForestClassifier(random_state=42)),\n",
        "    (\"SVM\", SVC(random_state=42)),\n",
        "    (\"KNN\", KNeighborsClassifier()),\n",
        "    (\"Decision Tree\", DecisionTreeClassifier(random_state=42)),\n",
        "    (\"XGBoost\", XGBClassifier(use_label_encoder=False, eval_metric='logloss', random_state=42))\n",
        "]\n",
        "\n",
        "model_results = []\n",
        "\n",
        "# Evaluate models using cross-validation and store results\n",
        "for name, model in models:\n",
        "    pipeline = Pipeline(steps=[('preprocessor', preprocessor), ('model', model)])\n",
        "    scores = cross_val_score(pipeline, X_train, y_train, cv=5, scoring='accuracy')\n",
        "    accuracy = scores.mean()\n",
        "    std_dev = scores.std()\n",
        "    model_results.append((name, accuracy, std_dev))\n",
        "    print(f\"{name} - Accuracy: {accuracy:.4f} (±{std_dev:.4f})\")\n",
        "\n",
        "best_model = max(model_results, key=lambda x: x[1])\n",
        "print(f\"\\nBest model: {best_model[0]} - Accuracy: {best_model[1]:.4f} (±{best_model[2]:.4f})\")\n",
        "\n",
        "# Evaluating the best model on the test set\n",
        "pipeline_best = Pipeline(steps=[('preprocessor', preprocessor), ('model', dict(models)[best_model[0]])])\n",
        "pipeline_best.fit(X_train, y_train)\n",
        "y_pred = pipeline_best.predict(X_test)\n",
        "print(\"\\nEvaluation of the Best Model on the Test Set:\")\n",
        "print(classification_report(y_test, y_pred))\n",
        "print(confusion_matrix(y_test, y_pred))\n"
      ],
      "metadata": {
        "colab": {
          "base_uri": "https://localhost:8080/"
        },
        "id": "X2ELbGI_PVEk",
        "outputId": "30da462d-00bf-4cb8-8f68-d885af7ef864"
      },
      "execution_count": null,
      "outputs": [
        {
          "output_type": "stream",
          "name": "stdout",
          "text": [
            "Logistic Regression - Accuracy: 0.8464 (±0.0259)\n",
            "Random Forest - Accuracy: 0.8383 (±0.0375)\n",
            "SVM - Accuracy: 0.8383 (±0.0271)\n",
            "KNN - Accuracy: 0.8016 (±0.0129)\n",
            "Decision Tree - Accuracy: 0.7799 (±0.0236)\n",
            "XGBoost - Accuracy: 0.8410 (±0.0378)\n",
            "\n",
            "Best model: Logistic Regression - Accuracy: 0.8464 (±0.0259)\n",
            "\n",
            "Evaluation of the Best Model on the Test Set:\n",
            "              precision    recall  f1-score   support\n",
            "\n",
            "           0       0.85      0.93      0.89       135\n",
            "           1       0.74      0.53      0.62        49\n",
            "\n",
            "    accuracy                           0.83       184\n",
            "   macro avg       0.79      0.73      0.75       184\n",
            "weighted avg       0.82      0.83      0.82       184\n",
            "\n",
            "[[126   9]\n",
            " [ 23  26]]\n"
          ]
        }
      ]
    },
    {
      "cell_type": "code",
      "source": [
        "from sklearn.metrics import roc_curve, auc\n",
        "import matplotlib.pyplot as plt\n",
        "\n",
        "# Assuming the best model is a binary classifier and you're working with binary classification\n",
        "if hasattr(pipeline_best.named_steps['model'], \"predict_proba\"):\n",
        "    y_probs = pipeline_best.predict_proba(X_test)[:, 1]  # Probabilities for the positive class\n",
        "    fpr, tpr, thresholds = roc_curve(y_test, y_probs)\n",
        "    roc_auc = auc(fpr, tpr)\n",
        "\n",
        "    plt.figure()\n",
        "    plt.plot(fpr, tpr, color='darkorange', lw=2, label='ROC curve (area = %0.2f)' % roc_auc)\n",
        "    plt.plot([0, 1], [0, 1], color='navy', lw=2, linestyle='--')\n",
        "    plt.xlim([0.0, 1.0])\n",
        "    plt.ylim([0.0, 1.05])\n",
        "    plt.xlabel('False Positive Rate')\n",
        "    plt.ylabel('True Positive Rate')\n",
        "    plt.title('Receiver Operating Characteristic (ROC)')\n",
        "    plt.legend(loc=\"lower right\")\n",
        "    plt.show()\n"
      ],
      "metadata": {
        "colab": {
          "base_uri": "https://localhost:8080/",
          "height": 472
        },
        "id": "sBA_BkPH7-9G",
        "outputId": "c90657ee-9b5b-4738-9ac9-d706b7941820"
      },
      "execution_count": null,
      "outputs": [
        {
          "output_type": "display_data",
          "data": {
            "text/plain": [
              "<Figure size 640x480 with 1 Axes>"
            ],
            "image/png": "[encoded data removed]"
          },
          "metadata": {}
        }
      ]
    },
    {
      "cell_type": "code",
      "source": [
        "import matplotlib.pyplot as plt\n",
        "\n",
        "# Model names and their corresponding accuracies and standard deviations\n",
        "models = ['Logistic Regression', 'Random Forest', 'SVM', 'KNN', 'Decision Tree', 'XGBoost']\n",
        "accuracies = [0.8464, 0.8383, 0.8383, 0.8016, 0.7799, 0.8410]\n",
        "std_devs = [0.0259, 0.0375, 0.0271, 0.0129, 0.0236, 0.0378]\n"
      ],
      "metadata": {
        "id": "9hwQUDsk-Zqh"
      },
      "execution_count": null,
      "outputs": []
    },
    {
      "cell_type": "code",
      "source": [
        "# Setting up the figure and axis\n",
        "fig, ax = plt.subplots(figsize=(8, 6))\n",
        "\n",
        "# Creating the bar chart\n",
        "ax.bar(models, accuracies, yerr=std_devs, capsize=5, color='skyblue', alpha=0.7)\n",
        "\n",
        "# Adding titles and labels\n",
        "ax.set_title('Comparison of Model Accuracies with Standard Deviation')\n",
        "ax.set_xlabel('Models')\n",
        "ax.set_ylabel('Accuracy')\n",
        "ax.set_ylim([0.75, 0.9])  # Setting y-axis limits to make deviations clear\n",
        "\n",
        "# Rotating the model names for better visibility\n",
        "plt.xticks(rotation=45)\n",
        "\n",
        "# Display the plot\n",
        "plt.tight_layout()\n",
        "plt.show()\n"
      ],
      "metadata": {
        "colab": {
          "base_uri": "https://localhost:8080/",
          "height": 607
        },
        "id": "UYS_zNnV-bnH",
        "outputId": "9cb4d9c2-5e41-41b7-f4c4-77dddc89787a"
      },
      "execution_count": null,
      "outputs": [
        {
          "output_type": "display_data",
          "data": {
            "text/plain": [
              "<Figure size 800x600 with 1 Axes>"
            ],
            "image/png": "[encoded data removed]"
          },
          "metadata": {}
        }
      ]
    },
    {
      "cell_type": "code",
      "source": [
        "from sklearn.linear_model import LogisticRegression\n",
        "\n",
        "# Assuming preprocessor is already defined\n",
        "model_pipeline = Pipeline(steps=[\n",
        "    ('preprocessor', preprocessor),\n",
        "    ('classifier', LogisticRegression(random_state=42))\n",
        "])\n"
      ],
      "metadata": {
        "id": "ntr5nP5pQILr"
      },
      "execution_count": null,
      "outputs": []
    },
    {
      "cell_type": "code",
      "source": [
        "param_grid = {\n",
        "    'classifier__C': [0.01, 0.1, 1, 10, 100],\n",
        "    'classifier__penalty': ['l1', 'l2'],\n",
        "    'classifier__solver': ['liblinear']  # 'liblinear' works well with 'l1' and 'l2' penalties\n",
        "}\n",
        "\n",
        "grid_search = GridSearchCV(model_pipeline, param_grid, cv=5, scoring='accuracy')\n",
        "grid_search.fit(X_train, y_train)\n",
        "\n",
        "print(\"Best parameters:\", grid_search.best_params_)\n",
        "print(\"Best cross-validation accuracy:\", grid_search.best_score_)\n"
      ],
      "metadata": {
        "colab": {
          "base_uri": "https://localhost:8080/"
        },
        "id": "xCErNzUDQJti",
        "outputId": "0adc4e1b-bffb-462d-82b0-03906c4d647c"
      },
      "execution_count": null,
      "outputs": [
        {
          "output_type": "stream",
          "name": "stdout",
          "text": [
            "Best parameters: {'classifier__C': 1, 'classifier__penalty': 'l2', 'classifier__solver': 'liblinear'}\n",
            "Best cross-validation accuracy: 0.8464239749954036\n"
          ]
        }
      ]
    },
    {
      "cell_type": "code",
      "source": [
        "# Extract the best model from grid_search\n",
        "best_model = grid_search.best_estimator_\n",
        "\n",
        "# Predict on the test set\n",
        "y_pred = best_model.predict(X_test)\n",
        "\n",
        "# Evaluate the model\n",
        "from sklearn.metrics import accuracy_score, classification_report, confusion_matrix\n",
        "print(\"Test accuracy:\", accuracy_score(y_test, y_pred))\n",
        "print(\"Classification report:\\n\", classification_report(y_test, y_pred))\n",
        "print(\"Confusion matrix:\\n\", confusion_matrix(y_test, y_pred))\n"
      ],
      "metadata": {
        "colab": {
          "base_uri": "https://localhost:8080/"
        },
        "id": "0NnteDM6QRFx",
        "outputId": "6d4b1d6b-8e1d-4fd3-c8db-a0050826add6"
      },
      "execution_count": null,
      "outputs": [
        {
          "output_type": "stream",
          "name": "stdout",
          "text": [
            "Test accuracy: 0.8260869565217391\n",
            "Classification report:\n",
            "               precision    recall  f1-score   support\n",
            "\n",
            "           0       0.85      0.93      0.89       135\n",
            "           1       0.74      0.53      0.62        49\n",
            "\n",
            "    accuracy                           0.83       184\n",
            "   macro avg       0.79      0.73      0.75       184\n",
            "weighted avg       0.82      0.83      0.82       184\n",
            "\n",
            "Confusion matrix:\n",
            " [[126   9]\n",
            " [ 23  26]]\n"
          ]
        }
      ]
    },
    {
      "cell_type": "code",
      "source": [
        "from sklearn.metrics import accuracy_score\n",
        "\n",
        "y_pred_train = best_model.predict(X_train)\n",
        "y_pred_test = best_model.predict(X_test)\n",
        "\n",
        "train_accuracy = accuracy_score(y_train, y_pred_train)\n",
        "test_accuracy = accuracy_score(y_test, y_pred_test)\n",
        "\n",
        "print(f\"Training Accuracy: {train_accuracy}\")\n",
        "print(f\"Test Accuracy: {test_accuracy}\")\n"
      ],
      "metadata": {
        "colab": {
          "base_uri": "https://localhost:8080/"
        },
        "id": "81tXLzXQQcky",
        "outputId": "729878c2-3a75-43b8-c8f6-a8bd5834b9df"
      },
      "execution_count": null,
      "outputs": [
        {
          "output_type": "stream",
          "name": "stdout",
          "text": [
            "Training Accuracy: 0.8546195652173914\n",
            "Test Accuracy: 0.8260869565217391\n"
          ]
        }
      ]
    },
    {
      "cell_type": "code",
      "source": [
        "# Assuming 'preprocessor' is your preprocessing pipeline as defined earlier\n",
        "from sklearn.linear_model import LogisticRegression\n",
        "\n",
        "# Create a new pipeline instance with Logistic Regression as the model\n",
        "pipeline_best = Pipeline(steps=[\n",
        "    ('preprocessor', preprocessor),\n",
        "    ('model', LogisticRegression(max_iter=1000, random_state=42))\n",
        "])\n",
        "\n",
        "# Fit the pipeline to your training data\n",
        "pipeline_best.fit(X_train, y_train)\n"
      ],
      "metadata": {
        "colab": {
          "base_uri": "https://localhost:8080/",
          "height": 192
        },
        "id": "LdywdK3FR1B4",
        "outputId": "77923e2b-6cfb-4bfd-b4c3-e2d32a2dab37"
      },
      "execution_count": null,
      "outputs": [
        {
          "output_type": "execute_result",
          "data": {
            "text/plain": [
              "Pipeline(steps=[('preprocessor',\n",
              "                 ColumnTransformer(transformers=[('num',\n",
              "                                                  Pipeline(steps=[('scaler',\n",
              "                                                                   StandardScaler())]),\n",
              "                                                  Index(['age', 'trestbps', 'chol', 'thalch'], dtype='object')),\n",
              "                                                 ('cat',\n",
              "                                                  Pipeline(steps=[('onehot',\n",
              "                                                                   OneHotEncoder(handle_unknown='ignore'))]),\n",
              "                                                  ['sex', 'exang', 'cp', 'fbs',\n",
              "                                                   'restecg', 'slope', 'thal',\n",
              "                                                   'ca', 'oldpeak'])])),\n",
              "                ('model', LogisticRegression(max_iter=1000, random_state=42))])"
            ],
            "text/html": [
              "<style>#sk-container-id-1 {color: black;background-color: white;}#sk-container-id-1 pre{padding: 0;}#sk-container-id-1 div.sk-toggleable {background-color: white;}#sk-container-id-1 label.sk-toggleable__label {cursor: pointer;display: block;width: 100%;margin-bottom: 0;padding: 0.3em;box-sizing: border-box;text-align: center;}#sk-container-id-1 label.sk-toggleable__label-arrow:before {content: \"▸\";float: left;margin-right: 0.25em;color: #696969;}#sk-container-id-1 label.sk-toggleable__label-arrow:hover:before {color: black;}#sk-container-id-1 div.sk-estimator:hover label.sk-toggleable__label-arrow:before {color: black;}#sk-container-id-1 div.sk-toggleable__content {max-height: 0;max-width: 0;overflow: hidden;text-align: left;background-color: #f0f8ff;}#sk-container-id-1 div.sk-toggleable__content pre {margin: 0.2em;color: black;border-radius: 0.25em;background-color: #f0f8ff;}#sk-container-id-1 input.sk-toggleable__control:checked~div.sk-toggleable__content {max-height: 200px;max-width: 100%;overflow: auto;}#sk-container-id-1 input.sk-toggleable__control:checked~label.sk-toggleable__label-arrow:before {content: \"▾\";}#sk-container-id-1 div.sk-estimator input.sk-toggleable__control:checked~label.sk-toggleable__label {background-color: #d4ebff;}#sk-container-id-1 div.sk-label input.sk-toggleable__control:checked~label.sk-toggleable__label {background-color: #d4ebff;}#sk-container-id-1 input.sk-hidden--visually {border: 0;clip: rect(1px 1px 1px 1px);clip: rect(1px, 1px, 1px, 1px);height: 1px;margin: -1px;overflow: hidden;padding: 0;position: absolute;width: 1px;}#sk-container-id-1 div.sk-estimator {font-family: monospace;background-color: #f0f8ff;border: 1px dotted black;border-radius: 0.25em;box-sizing: border-box;margin-bottom: 0.5em;}#sk-container-id-1 div.sk-estimator:hover {background-color: #d4ebff;}#sk-container-id-1 div.sk-parallel-item::after {content: \"\";width: 100%;border-bottom: 1px solid gray;flex-grow: 1;}#sk-container-id-1 div.sk-label:hover label.sk-toggleable__label {background-color: #d4ebff;}#sk-container-id-1 div.sk-serial::before {content: \"\";position: absolute;border-left: 1px solid gray;box-sizing: border-box;top: 0;bottom: 0;left: 50%;z-index: 0;}#sk-container-id-1 div.sk-serial {display: flex;flex-direction: column;align-items: center;background-color: white;padding-right: 0.2em;padding-left: 0.2em;position: relative;}#sk-container-id-1 div.sk-item {position: relative;z-index: 1;}#sk-container-id-1 div.sk-parallel {display: flex;align-items: stretch;justify-content: center;background-color: white;position: relative;}#sk-container-id-1 div.sk-item::before, #sk-container-id-1 div.sk-parallel-item::before {content: \"\";position: absolute;border-left: 1px solid gray;box-sizing: border-box;top: 0;bottom: 0;left: 50%;z-index: -1;}#sk-container-id-1 div.sk-parallel-item {display: flex;flex-direction: column;z-index: 1;position: relative;background-color: white;}#sk-container-id-1 div.sk-parallel-item:first-child::after {align-self: flex-end;width: 50%;}#sk-container-id-1 div.sk-parallel-item:last-child::after {align-self: flex-start;width: 50%;}#sk-container-id-1 div.sk-parallel-item:only-child::after {width: 0;}#sk-container-id-1 div.sk-dashed-wrapped {border: 1px dashed gray;margin: 0 0.4em 0.5em 0.4em;box-sizing: border-box;padding-bottom: 0.4em;background-color: white;}#sk-container-id-1 div.sk-label label {font-family: monospace;font-weight: bold;display: inline-block;line-height: 1.2em;}#sk-container-id-1 div.sk-label-container {text-align: center;}#sk-container-id-1 div.sk-container {/* jupyter's `normalize.less` sets `[hidden] { display: none; }` but bootstrap.min.css set `[hidden] { display: none !important; }` so we also need the `!important` here to be able to override the default hidden behavior on the sphinx rendered scikit-learn.org. See: https://github.com/scikit-learn/scikit-learn/issues/21755 */display: inline-block !important;position: relative;}#sk-container-id-1 div.sk-text-repr-fallback {display: none;}</style><div id=\"sk-container-id-1\" class=\"sk-top-container\"><div class=\"sk-text-repr-fallback\"><pre>Pipeline(steps=[(&#x27;preprocessor&#x27;,\n",
              "                 ColumnTransformer(transformers=[(&#x27;num&#x27;,\n",
              "                                                  Pipeline(steps=[(&#x27;scaler&#x27;,\n",
              "                                                                   StandardScaler())]),\n",
              "                                                  Index([&#x27;age&#x27;, &#x27;trestbps&#x27;, &#x27;chol&#x27;, &#x27;thalch&#x27;], dtype=&#x27;object&#x27;)),\n",
              "                                                 (&#x27;cat&#x27;,\n",
              "                                                  Pipeline(steps=[(&#x27;onehot&#x27;,\n",
              "                                                                   OneHotEncoder(handle_unknown=&#x27;ignore&#x27;))]),\n",
              "                                                  [&#x27;sex&#x27;, &#x27;exang&#x27;, &#x27;cp&#x27;, &#x27;fbs&#x27;,\n",
              "                                                   &#x27;restecg&#x27;, &#x27;slope&#x27;, &#x27;thal&#x27;,\n",
              "                                                   &#x27;ca&#x27;, &#x27;oldpeak&#x27;])])),\n",
              "                (&#x27;model&#x27;, LogisticRegression(max_iter=1000, random_state=42))])</pre><b>In a Jupyter environment, please rerun this cell to show the HTML representation or trust the notebook. <br />On GitHub, the HTML representation is unable to render, please try loading this page with nbviewer.org.</b></div><div class=\"sk-container\" hidden><div class=\"sk-item sk-dashed-wrapped\"><div class=\"sk-label-container\"><div class=\"sk-label sk-toggleable\"><input class=\"sk-toggleable__control sk-hidden--visually\" id=\"sk-estimator-id-1\" type=\"checkbox\" ><label for=\"sk-estimator-id-1\" class=\"sk-toggleable__label sk-toggleable__label-arrow\">Pipeline</label><div class=\"sk-toggleable__content\"><pre>Pipeline(steps=[(&#x27;preprocessor&#x27;,\n",
              "                 ColumnTransformer(transformers=[(&#x27;num&#x27;,\n",
              "                                                  Pipeline(steps=[(&#x27;scaler&#x27;,\n",
              "                                                                   StandardScaler())]),\n",
              "                                                  Index([&#x27;age&#x27;, &#x27;trestbps&#x27;, &#x27;chol&#x27;, &#x27;thalch&#x27;], dtype=&#x27;object&#x27;)),\n",
              "                                                 (&#x27;cat&#x27;,\n",
              "                                                  Pipeline(steps=[(&#x27;onehot&#x27;,\n",
              "                                                                   OneHotEncoder(handle_unknown=&#x27;ignore&#x27;))]),\n",
              "                                                  [&#x27;sex&#x27;, &#x27;exang&#x27;, &#x27;cp&#x27;, &#x27;fbs&#x27;,\n",
              "                                                   &#x27;restecg&#x27;, &#x27;slope&#x27;, &#x27;thal&#x27;,\n",
              "                                                   &#x27;ca&#x27;, &#x27;oldpeak&#x27;])])),\n",
              "                (&#x27;model&#x27;, LogisticRegression(max_iter=1000, random_state=42))])</pre></div></div></div><div class=\"sk-serial\"><div class=\"sk-item sk-dashed-wrapped\"><div class=\"sk-label-container\"><div class=\"sk-label sk-toggleable\"><input class=\"sk-toggleable__control sk-hidden--visually\" id=\"sk-estimator-id-2\" type=\"checkbox\" ><label for=\"sk-estimator-id-2\" class=\"sk-toggleable__label sk-toggleable__label-arrow\">preprocessor: ColumnTransformer</label><div class=\"sk-toggleable__content\"><pre>ColumnTransformer(transformers=[(&#x27;num&#x27;,\n",
              "                                 Pipeline(steps=[(&#x27;scaler&#x27;, StandardScaler())]),\n",
              "                                 Index([&#x27;age&#x27;, &#x27;trestbps&#x27;, &#x27;chol&#x27;, &#x27;thalch&#x27;], dtype=&#x27;object&#x27;)),\n",
              "                                (&#x27;cat&#x27;,\n",
              "                                 Pipeline(steps=[(&#x27;onehot&#x27;,\n",
              "                                                  OneHotEncoder(handle_unknown=&#x27;ignore&#x27;))]),\n",
              "                                 [&#x27;sex&#x27;, &#x27;exang&#x27;, &#x27;cp&#x27;, &#x27;fbs&#x27;, &#x27;restecg&#x27;,\n",
              "                                  &#x27;slope&#x27;, &#x27;thal&#x27;, &#x27;ca&#x27;, &#x27;oldpeak&#x27;])])</pre></div></div></div><div class=\"sk-parallel\"><div class=\"sk-parallel-item\"><div class=\"sk-item\"><div class=\"sk-label-container\"><div class=\"sk-label sk-toggleable\"><input class=\"sk-toggleable__control sk-hidden--visually\" id=\"sk-estimator-id-3\" type=\"checkbox\" ><label for=\"sk-estimator-id-3\" class=\"sk-toggleable__label sk-toggleable__label-arrow\">num</label><div class=\"sk-toggleable__content\"><pre>Index([&#x27;age&#x27;, &#x27;trestbps&#x27;, &#x27;chol&#x27;, &#x27;thalch&#x27;], dtype=&#x27;object&#x27;)</pre></div></div></div><div class=\"sk-serial\"><div class=\"sk-item\"><div class=\"sk-serial\"><div class=\"sk-item\"><div class=\"sk-estimator sk-toggleable\"><input class=\"sk-toggleable__control sk-hidden--visually\" id=\"sk-estimator-id-4\" type=\"checkbox\" ><label for=\"sk-estimator-id-4\" class=\"sk-toggleable__label sk-toggleable__label-arrow\">StandardScaler</label><div class=\"sk-toggleable__content\"><pre>StandardScaler()</pre></div></div></div></div></div></div></div></div><div class=\"sk-parallel-item\"><div class=\"sk-item\"><div class=\"sk-label-container\"><div class=\"sk-label sk-toggleable\"><input class=\"sk-toggleable__control sk-hidden--visually\" id=\"sk-estimator-id-5\" type=\"checkbox\" ><label for=\"sk-estimator-id-5\" class=\"sk-toggleable__label sk-toggleable__label-arrow\">cat</label><div class=\"sk-toggleable__content\"><pre>[&#x27;sex&#x27;, &#x27;exang&#x27;, &#x27;cp&#x27;, &#x27;fbs&#x27;, &#x27;restecg&#x27;, &#x27;slope&#x27;, &#x27;thal&#x27;, &#x27;ca&#x27;, &#x27;oldpeak&#x27;]</pre></div></div></div><div class=\"sk-serial\"><div class=\"sk-item\"><div class=\"sk-serial\"><div class=\"sk-item\"><div class=\"sk-estimator sk-toggleable\"><input class=\"sk-toggleable__control sk-hidden--visually\" id=\"sk-estimator-id-6\" type=\"checkbox\" ><label for=\"sk-estimator-id-6\" class=\"sk-toggleable__label sk-toggleable__label-arrow\">OneHotEncoder</label><div class=\"sk-toggleable__content\"><pre>OneHotEncoder(handle_unknown=&#x27;ignore&#x27;)</pre></div></div></div></div></div></div></div></div></div></div><div class=\"sk-item\"><div class=\"sk-estimator sk-toggleable\"><input class=\"sk-toggleable__control sk-hidden--visually\" id=\"sk-estimator-id-7\" type=\"checkbox\" ><label for=\"sk-estimator-id-7\" class=\"sk-toggleable__label sk-toggleable__label-arrow\">LogisticRegression</label><div class=\"sk-toggleable__content\"><pre>LogisticRegression(max_iter=1000, random_state=42)</pre></div></div></div></div></div></div></div>"
            ]
          },
          "metadata": {},
          "execution_count": 58
        }
      ]
    },
    {
      "cell_type": "code",
      "source": [
        "from sklearn.metrics import classification_report, confusion_matrix\n",
        "\n",
        "# Make predictions on the test set\n",
        "y_pred = pipeline_best.predict(X_test)\n",
        "\n",
        "# Evaluate the predictions\n",
        "print(\"Test accuracy:\", accuracy_score(y_test, y_pred))\n",
        "print(classification_report(y_test, y_pred))\n",
        "print(confusion_matrix(y_test, y_pred))"
      ],
      "metadata": {
        "colab": {
          "base_uri": "https://localhost:8080/"
        },
        "id": "EhRKV_4tR968",
        "outputId": "a8b1a254-27b8-40df-bb5b-040025298681"
      },
      "execution_count": null,
      "outputs": [
        {
          "output_type": "stream",
          "name": "stdout",
          "text": [
            "Test accuracy: 0.8260869565217391\n",
            "              precision    recall  f1-score   support\n",
            "\n",
            "           0       0.85      0.93      0.89       135\n",
            "           1       0.74      0.53      0.62        49\n",
            "\n",
            "    accuracy                           0.83       184\n",
            "   macro avg       0.79      0.73      0.75       184\n",
            "weighted avg       0.82      0.83      0.82       184\n",
            "\n",
            "[[126   9]\n",
            " [ 23  26]]\n"
          ]
        }
      ]
    },
    {
      "cell_type": "code",
      "source": [
        "# Assuming 'pipeline_best' contains a Logistic Regression in the last step\n",
        "# Ensure that your logistic regression model is named 'classifier' in the pipeline\n",
        "if 'classifier' in pipeline_best.named_steps and hasattr(pipeline_best.named_steps['classifier'], 'coef_'):\n",
        "    import pandas as pd\n",
        "\n",
        "    # Get coefficients from the Logistic Regression model\n",
        "    coefficients = pipeline_best.named_steps['classifier'].coef_[0]\n",
        "\n",
        "    # Get feature names from the preprocessor if it's a ColumnTransformer\n",
        "    feature_names = pipeline_best.named_steps['preprocessor'].get_feature_names_out()\n",
        "\n",
        "    # Create a DataFrame for better visualization\n",
        "    feature_importance = pd.DataFrame({\n",
        "        'Feature': feature_names,\n",
        "        'Coefficient': coefficients\n",
        "    })\n",
        "\n",
        "    # Sort the features by the absolute value of their coefficients\n",
        "    feature_importance['Absolute Coefficient'] = feature_importance['Coefficient'].abs()\n",
        "    feature_importance = feature_importance.sort_values(by='Absolute Coefficient', ascending=False)\n",
        "\n",
        "    print(feature_importance)\n"
      ],
      "metadata": {
        "id": "HkmnI9qnU8kY"
      },
      "execution_count": null,
      "outputs": []
    },
    {
      "cell_type": "code",
      "source": [
        "new_data = pd.DataFrame({\n",
        "    'age': [63, 37],\n",
        "    'sex': ['male', 'female'],\n",
        "    'cp': ['typical angina', 'non-anginal'],\n",
        "    'trestbps': [145, 130],\n",
        "    'chol': [233, 250],\n",
        "    'fbs': [True, False],\n",
        "    'restecg': ['normal', 'st-t abnormality'],\n",
        "    'thalch': [150, 187],\n",
        "    'exang': [False, True],\n",
        "    'oldpeak': ['Moderate Depression', 'Mild Depression'],\n",
        "    'slope': ['upsloping', 'flat'],\n",
        "    'ca': [0, 2],\n",
        "    'thal': ['fixed defect', 'reversable defect']\n",
        "})\n"
      ],
      "metadata": {
        "id": "Ot9A4AfPSxwR"
      },
      "execution_count": null,
      "outputs": []
    },
    {
      "cell_type": "code",
      "source": [
        "predictions = best_model.predict(new_data)\n",
        "print(predictions)"
      ],
      "metadata": {
        "colab": {
          "base_uri": "https://localhost:8080/"
        },
        "id": "8T9g-HRNTITF",
        "outputId": "40b21759-6da4-41e9-fb02-33a6a3e38a99"
      },
      "execution_count": null,
      "outputs": [
        {
          "output_type": "stream",
          "name": "stdout",
          "text": [
            "[0 1]\n"
          ]
        }
      ]
    },
    {
      "cell_type": "code",
      "source": [
        "predictions = pipeline_best.predict(new_data)\n",
        "print(predictions)"
      ],
      "metadata": {
        "colab": {
          "base_uri": "https://localhost:8080/"
        },
        "id": "JFcozOnXTMhW",
        "outputId": "e2ebeeec-7cd7-47d2-86d0-f0c421d11711"
      },
      "execution_count": null,
      "outputs": [
        {
          "output_type": "stream",
          "name": "stdout",
          "text": [
            "[0 1]\n"
          ]
        }
      ]
    },
    {
      "cell_type": "code",
      "source": [
        "# This will print all steps in the pipeline with their names\n",
        "print(best_model.named_steps)"
      ],
      "metadata": {
        "colab": {
          "base_uri": "https://localhost:8080/"
        },
        "id": "r2m5G6bPVMF2",
        "outputId": "437046b3-b1e5-43b4-a72b-888d85d47a92"
      },
      "execution_count": null,
      "outputs": [
        {
          "output_type": "stream",
          "name": "stdout",
          "text": [
            "{'preprocessor': ColumnTransformer(transformers=[('num',\n",
            "                                 Pipeline(steps=[('scaler', StandardScaler())]),\n",
            "                                 Index(['age', 'trestbps', 'chol', 'thalch'], dtype='object')),\n",
            "                                ('cat',\n",
            "                                 Pipeline(steps=[('onehot',\n",
            "                                                  OneHotEncoder(handle_unknown='ignore'))]),\n",
            "                                 ['sex', 'exang', 'cp', 'fbs', 'restecg',\n",
            "                                  'slope', 'thal', 'ca', 'oldpeak'])]), 'classifier': LogisticRegression(C=1, random_state=42, solver='liblinear')}\n"
          ]
        }
      ]
    },
    {
      "cell_type": "code",
      "source": [
        "print(pipeline_best.named_steps)\n"
      ],
      "metadata": {
        "colab": {
          "base_uri": "https://localhost:8080/"
        },
        "id": "6W4kVw0FTp32",
        "outputId": "4bfca9cb-f720-4b53-871f-f7054f762a0a"
      },
      "execution_count": null,
      "outputs": [
        {
          "output_type": "stream",
          "name": "stdout",
          "text": [
            "{'preprocessor': ColumnTransformer(transformers=[('num',\n",
            "                                 Pipeline(steps=[('scaler', StandardScaler())]),\n",
            "                                 Index(['age', 'trestbps', 'chol', 'thalch'], dtype='object')),\n",
            "                                ('cat',\n",
            "                                 Pipeline(steps=[('onehot',\n",
            "                                                  OneHotEncoder(handle_unknown='ignore'))]),\n",
            "                                 ['sex', 'exang', 'cp', 'fbs', 'restecg',\n",
            "                                  'slope', 'thal', 'ca', 'oldpeak'])]), 'model': LogisticRegression(max_iter=1000, random_state=42)}\n"
          ]
        }
      ]
    },
    {
      "cell_type": "code",
      "source": [
        "from sklearn.utils.validation import check_is_fitted\n",
        "\n",
        "# Assuming pipeline_best is your fitted pipeline\n",
        "try:\n",
        "    # Check if the model step of the pipeline is fitted\n",
        "    check_is_fitted(pipeline_best)\n",
        "    print(\"The pipeline is properly fitted.\")\n",
        "except NotFittedError as e:\n",
        "    print(\"The pipeline is not fitted yet.\")\n"
      ],
      "metadata": {
        "colab": {
          "base_uri": "https://localhost:8080/"
        },
        "id": "YaY1xNjwYhOU",
        "outputId": "1d5da06b-4f13-4a9e-b519-68aa4517565a"
      },
      "execution_count": null,
      "outputs": [
        {
          "output_type": "stream",
          "name": "stdout",
          "text": [
            "The pipeline is properly fitted.\n"
          ]
        }
      ]
    },
    {
      "cell_type": "code",
      "source": [
        "from sklearn.utils.validation import check_is_fitted\n",
        "\n",
        "# Assuming 'model' is the name of the step in the pipeline where the estimator is located\n",
        "try:\n",
        "    # Access the model step and check if it's fitted\n",
        "    check_is_fitted(pipeline_best.named_steps['model'])\n",
        "    print(\"The model step is fitted.\")\n",
        "except AttributeError as e:\n",
        "    print(\"The model step is not fitted. Error:\", e)\n"
      ],
      "metadata": {
        "colab": {
          "base_uri": "https://localhost:8080/"
        },
        "id": "aWpREF49ZXun",
        "outputId": "aa5fae4b-1fb6-41e6-b5c3-d77d15f58a46"
      },
      "execution_count": null,
      "outputs": [
        {
          "output_type": "stream",
          "name": "stdout",
          "text": [
            "The model step is fitted.\n"
          ]
        }
      ]
    },
    {
      "cell_type": "code",
      "source": [
        "# Print all steps in the pipeline to check their names\n",
        "for step_name, step_object in pipeline_best.named_steps.items():\n",
        "    print(f\"Step name: {step_name}, Step object: {type(step_object).__name__}\")\n",
        "\n"
      ],
      "metadata": {
        "colab": {
          "base_uri": "https://localhost:8080/"
        },
        "id": "G6X42d3BaZFJ",
        "outputId": "2c58b31e-472c-4efa-af21-e686f8cef2e3"
      },
      "execution_count": null,
      "outputs": [
        {
          "output_type": "stream",
          "name": "stdout",
          "text": [
            "Step name: preprocessor, Step object: ColumnTransformer\n",
            "Step name: model, Step object: LogisticRegression\n"
          ]
        }
      ]
    },
    {
      "cell_type": "code",
      "source": [
        "if X_train is not None and y_train is not None:\n",
        "    # Fit the pipeline with the training data\n",
        "    pipeline_best.fit(X_train, y_train)\n",
        "    print(\"The pipeline has been successfully fitted.\")"
      ],
      "metadata": {
        "colab": {
          "base_uri": "https://localhost:8080/"
        },
        "id": "rR2A__8bbAum",
        "outputId": "0661e1a3-ac41-44ee-86d7-0a8b94f9af4c"
      },
      "execution_count": null,
      "outputs": [
        {
          "output_type": "stream",
          "name": "stdout",
          "text": [
            "The pipeline has been successfully fitted.\n"
          ]
        }
      ]
    },
    {
      "cell_type": "code",
      "source": [
        "# Access model coefficients and feature names\n",
        "coefs = pipeline_best.named_steps['model'].coef_[0]\n",
        "feature_names = pipeline_best.named_steps['preprocessor'].get_feature_names_out()\n",
        "\n",
        "# Pair feature names with coefficients\n",
        "feature_importances = zip(feature_names, coefs)\n",
        "sorted_features = sorted(feature_importances, key=lambda x: abs(x[1]), reverse=True)\n",
        "\n",
        "# Display the features and their importances\n",
        "print(\"Feature importances:\")\n",
        "for feature, importance in sorted_features:\n",
        "    print(f\"{feature}: {importance}\")\n"
      ],
      "metadata": {
        "colab": {
          "base_uri": "https://localhost:8080/"
        },
        "id": "gK-2CyYyWZmq",
        "outputId": "3c0e11a3-8a24-44c5-bcaf-75e597ff72a0"
      },
      "execution_count": null,
      "outputs": [
        {
          "output_type": "stream",
          "name": "stdout",
          "text": [
            "Feature importances:\n",
            "cat__ca_0.0: -1.8416054489874902\n",
            "cat__cp_atypical angina: -1.144301166723561\n",
            "cat__ca_3.0: 0.8995948466042716\n",
            "cat__slope_upsloping: -0.7870335545816314\n",
            "cat__slope_downsloping: 0.7481132747820028\n",
            "cat__ca_2.0: 0.7285791506823156\n",
            "cat__oldpeak_No Depression: -0.6800444236074755\n",
            "cat__oldpeak_Moderate Depression: 0.6143267733993067\n",
            "cat__thal_normal: -0.594838825516337\n",
            "cat__cp_asymptomatic: 0.5267783608097373\n",
            "cat__restecg_st-t abnormality: 0.509337770584742\n",
            "num__thalch: -0.4866721213158933\n",
            "cat__restecg_normal: -0.31861506926425764\n",
            "cat__cp_non-anginal: 0.3140397304100621\n",
            "cat__thal_reversable defect: 0.3090291965472838\n",
            "cat__cp_typical angina: 0.30293427914064763\n",
            "cat__thal_fixed defect: 0.28526083260593993\n",
            "num__age: 0.2772211384603552\n",
            "cat__sex_Female: -0.2753445020874545\n",
            "cat__sex_Male: 0.27479570572434264\n",
            "cat__ca_1.0: 0.21288265533779163\n",
            "cat__restecg_lv hypertrophy: -0.19127149768359183\n",
            "cat__oldpeak_Mild Depression: 0.15208602180090397\n",
            "cat__oldpeak_Severe Depression: -0.08691716795584756\n",
            "cat__slope_flat: 0.0383714834365135\n",
            "cat__exang_False: -0.03806162128431236\n",
            "cat__exang_True: 0.03751282492120129\n",
            "num__trestbps: 0.026436063579806792\n",
            "cat__fbs_False: -0.016052265995757757\n",
            "cat__fbs_True: 0.01550346963264026\n",
            "num__chol: -0.009190169791119788\n"
          ]
        }
      ]
    },
    {
      "cell_type": "code",
      "source": [
        "import matplotlib.pyplot as plt\n",
        "\n",
        "# Extract values for plotting\n",
        "features, importances = zip(*sorted_features[:10])  # Limit to top 10 features for clarity\n",
        "\n",
        "fig, ax = plt.subplots()\n",
        "ax.barh(features, importances, color='blue')\n",
        "ax.set_xlabel('Importance')\n",
        "ax.set_title('Top 10 Feature Importances')\n",
        "plt.gca().invert_yaxis()  # Highest importance at the top\n",
        "plt.show()\n"
      ],
      "metadata": {
        "colab": {
          "base_uri": "https://localhost:8080/",
          "height": 472
        },
        "id": "ruWsifQR68XL",
        "outputId": "06080ff7-12d3-43c0-ac0d-1110972c4faf"
      },
      "execution_count": null,
      "outputs": [
        {
          "output_type": "display_data",
          "data": {
            "text/plain": [
              "<Figure size 640x480 with 1 Axes>"
            ],
            "image/png": "[encoded data removed]"
          },
          "metadata": {}
        }
      ]
    },
    {
      "cell_type": "code",
      "source": [
        "pip install joblib\n"
      ],
      "metadata": {
        "colab": {
          "base_uri": "https://localhost:8080/"
        },
        "id": "1W3goOKgdo5C",
        "outputId": "8661beb5-a3e6-4e9a-b513-9ff8fb5141e5"
      },
      "execution_count": null,
      "outputs": [
        {
          "output_type": "stream",
          "name": "stdout",
          "text": [
            "Requirement already satisfied: joblib in /usr/local/lib/python3.10/dist-packages (1.4.0)\n"
          ]
        }
      ]
    },
    {
      "cell_type": "code",
      "source": [
        "from joblib import dump\n",
        "\n",
        "dump(pipeline_best, 'pipeline_best.joblib')"
      ],
      "metadata": {
        "colab": {
          "base_uri": "https://localhost:8080/"
        },
        "id": "U1jP7nsDb2lP",
        "outputId": "2b86c226-6429-4c32-bbca-06cc6087b69f"
      },
      "execution_count": null,
      "outputs": [
        {
          "output_type": "execute_result",
          "data": {
            "text/plain": [
              "['pipeline_best.joblib']"
            ]
          },
          "metadata": {},
          "execution_count": 73
        }
      ]
    },
    {
      "cell_type": "code",
      "source": [
        "from google.colab import files\n",
        "files.download('pipeline_best.joblib')\n"
      ],
      "metadata": {
        "colab": {
          "base_uri": "https://localhost:8080/",
          "height": 17
        },
        "id": "PcGiyoDtb4sF",
        "outputId": "dfe071e3-61de-4fd6-b177-fef6c9f1b4c8"
      },
      "execution_count": null,
      "outputs": [
        {
          "output_type": "display_data",
          "data": {
            "text/plain": [
              "<IPython.core.display.Javascript object>"
            ],
            "application/javascript": [
              "\n",
              "    async function download(id, filename, size) {\n",
              "      if (!google.colab.kernel.accessAllowed) {\n",
              "        return;\n",
              "      }\n",
              "      const div = document.createElement('div');\n",
              "      const label = document.createElement('label');\n",
              "      label.textContent = `Downloading \"${filename}\": `;\n",
              "      div.appendChild(label);\n",
              "      const progress = document.createElement('progress');\n",
              "      progress.max = size;\n",
              "      div.appendChild(progress);\n",
              "      document.body.appendChild(div);\n",
              "\n",
              "      const buffers = [];\n",
              "      let downloaded = 0;\n",
              "\n",
              "      const channel = await google.colab.kernel.comms.open(id);\n",
              "      // Send a message to notify the kernel that we're ready.\n",
              "      channel.send({})\n",
              "\n",
              "      for await (const message of channel.messages) {\n",
              "        // Send a message to notify the kernel that we're ready.\n",
              "        channel.send({})\n",
              "        if (message.buffers) {\n",
              "          for (const buffer of message.buffers) {\n",
              "            buffers.push(buffer);\n",
              "            downloaded += buffer.byteLength;\n",
              "            progress.value = downloaded;\n",
              "          }\n",
              "        }\n",
              "      }\n",
              "      const blob = new Blob(buffers, {type: 'application/binary'});\n",
              "      const a = document.createElement('a');\n",
              "      a.href = window.URL.createObjectURL(blob);\n",
              "      a.download = filename;\n",
              "      div.appendChild(a);\n",
              "      a.click();\n",
              "      div.remove();\n",
              "    }\n",
              "  "
            ]
          },
          "metadata": {}
        },
        {
          "output_type": "display_data",
          "data": {
            "text/plain": [
              "<IPython.core.display.Javascript object>"
            ],
            "application/javascript": [
              "download(\"download_52757f02-6b6d-4aee-9b8a-eecdaa315be1\", \"pipeline_best.joblib\", 6215)"
            ]
          },
          "metadata": {}
        }
      ]
    },
    {
      "cell_type": "code",
      "source": [
        "from joblib import load\n",
        "\n",
        "# Load the pipeline from file\n",
        "pipeline = load('pipeline_best.joblib')"
      ],
      "metadata": {
        "id": "ge8qdpwjcBT6"
      },
      "execution_count": null,
      "outputs": []
    },
    {
      "cell_type": "code",
      "source": [
        "from joblib import load\n",
        "\n",
        "try:\n",
        "    pipeline = load('pipeline_best.joblib')\n",
        "    print(\"Pipeline loaded successfully.\")\n",
        "    print(pipeline)\n",
        "except Exception as e:\n",
        "    print(f\"Failed to load pipeline: {e}\")\n"
      ],
      "metadata": {
        "colab": {
          "base_uri": "https://localhost:8080/"
        },
        "id": "DcNBK_5Xegwj",
        "outputId": "d19f3eb3-77e6-4845-9d1e-8829c3960422"
      },
      "execution_count": null,
      "outputs": [
        {
          "output_type": "stream",
          "name": "stdout",
          "text": [
            "Pipeline loaded successfully.\n",
            "Pipeline(steps=[('preprocessor',\n",
            "                 ColumnTransformer(transformers=[('num',\n",
            "                                                  Pipeline(steps=[('scaler',\n",
            "                                                                   StandardScaler())]),\n",
            "                                                  Index(['age', 'trestbps', 'chol', 'thalch'], dtype='object')),\n",
            "                                                 ('cat',\n",
            "                                                  Pipeline(steps=[('onehot',\n",
            "                                                                   OneHotEncoder(handle_unknown='ignore'))]),\n",
            "                                                  ['sex', 'exang', 'cp', 'fbs',\n",
            "                                                   'restecg', 'slope', 'thal',\n",
            "                                                   'ca', 'oldpeak'])])),\n",
            "                ('model', LogisticRegression(max_iter=1000, random_state=42))])\n"
          ]
        }
      ]
    },
    {
      "cell_type": "code",
      "source": [
        "# Example of making a prediction with new data\n",
        "sample_data = {\n",
        "    'age': [67],\n",
        "    'sex': ['Male'],\n",
        "    'cp': ['asymptomatic'],\n",
        "    'trestbps': [160],\n",
        "    'chol': [286],\n",
        "    'fbs': ['False'],  # Make sure boolean values are consistent with how they were trained\n",
        "    'restecg': ['lv hypertrophy'],\n",
        "    'thalch': [108],\n",
        "    'exang': ['True'],  # Make sure boolean values are consistent with how they were trained\n",
        "    'oldpeak': ['Mild Depression'],\n",
        "    'slope': ['flat'],\n",
        "    'ca': [3],\n",
        "    'thal': ['fixed defect']\n",
        "}\n",
        "\n",
        "sample_df = pd.DataFrame(sample_data)\n",
        "\n",
        "# Predict on the new data\n",
        "prediction = pipeline.predict(sample_df)\n",
        "print(\"Prediction for new sample:\", prediction)\n"
      ],
      "metadata": {
        "colab": {
          "base_uri": "https://localhost:8080/"
        },
        "id": "KCxIgq7XcaNs",
        "outputId": "22474aa3-d928-4701-f2b2-62e6b1eab195"
      },
      "execution_count": null,
      "outputs": [
        {
          "output_type": "stream",
          "name": "stdout",
          "text": [
            "Prediction for new sample: [1]\n"
          ]
        }
      ]
    },
    {
      "cell_type": "markdown",
      "source": [
        "from joblib import dump\n",
        "\n",
        "# Assuming 'model_pipeline' is your trained model pipeline\n",
        "dump(best_model_pipeline, 'best_model_pipeline.joblib')\n"
      ],
      "metadata": {
        "id": "HG90Yny989wp"
      }
    },
    {
      "cell_type": "code",
      "execution_count": null,
      "metadata": {
        "id": "WDsNZTH9_YcT"
      },
      "outputs": [],
      "source": [
        "from google.colab import files\n",
        "\n",
        "# Correct file path\n",
        "file_path = 'best_model_pipeline.joblib'\n",
        "\n",
        "files.download(file_path)\n"
      ]
    }
  ],
  "metadata": {
    "colab": {
      "provenance": []
    },
    "kernelspec": {
      "display_name": "Python 3",
      "name": "python3"
    },
    "language_info": {
      "name": "python"
    }
  },
  "nbformat": 4,
  "nbformat_minor": 0
}